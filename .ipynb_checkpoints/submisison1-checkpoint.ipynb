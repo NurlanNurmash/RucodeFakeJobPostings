{
 "cells": [
  {
   "cell_type": "code",
   "execution_count": 7,
   "metadata": {
    "collapsed": true,
    "jupyter": {
     "outputs_hidden": true
    }
   },
   "outputs": [
    {
     "name": "stdout",
     "output_type": "stream",
     "text": [
      "Collecting transformers\n",
      "  Downloading transformers-4.6.1-py3-none-any.whl (2.2 MB)\n",
      "Requirement already satisfied: filelock in d:\\program files\\anaconda3\\lib\\site-packages (from transformers) (3.0.12)\n",
      "Requirement already satisfied: numpy>=1.17 in d:\\program files\\anaconda3\\lib\\site-packages (from transformers) (1.19.2)\n",
      "Requirement already satisfied: requests in d:\\program files\\anaconda3\\lib\\site-packages (from transformers) (2.24.0)\n",
      "Collecting tokenizers<0.11,>=0.10.1\n",
      "  Downloading tokenizers-0.10.2-cp38-cp38-win_amd64.whl (2.0 MB)\n",
      "Requirement already satisfied: tqdm>=4.27 in d:\\program files\\anaconda3\\lib\\site-packages (from transformers) (4.50.2)\n",
      "Requirement already satisfied: regex!=2019.12.17 in d:\\program files\\anaconda3\\lib\\site-packages (from transformers) (2020.10.15)\n",
      "Collecting huggingface-hub==0.0.8\n",
      "  Downloading huggingface_hub-0.0.8-py3-none-any.whl (34 kB)\n",
      "Requirement already satisfied: packaging in d:\\program files\\anaconda3\\lib\\site-packages (from transformers) (20.4)\n",
      "Collecting sacremoses\n",
      "  Downloading sacremoses-0.0.45-py3-none-any.whl (895 kB)\n",
      "Requirement already satisfied: chardet<4,>=3.0.2 in d:\\program files\\anaconda3\\lib\\site-packages (from requests->transformers) (3.0.4)\n",
      "Requirement already satisfied: urllib3!=1.25.0,!=1.25.1,<1.26,>=1.21.1 in d:\\program files\\anaconda3\\lib\\site-packages (from requests->transformers) (1.25.11)\n",
      "Requirement already satisfied: idna<3,>=2.5 in d:\\program files\\anaconda3\\lib\\site-packages (from requests->transformers) (2.10)\n",
      "Requirement already satisfied: certifi>=2017.4.17 in d:\\program files\\anaconda3\\lib\\site-packages (from requests->transformers) (2020.12.5)\n",
      "Requirement already satisfied: six in d:\\program files\\anaconda3\\lib\\site-packages (from packaging->transformers) (1.15.0)\n",
      "Requirement already satisfied: pyparsing>=2.0.2 in d:\\program files\\anaconda3\\lib\\site-packages (from packaging->transformers) (2.4.7)\n",
      "Requirement already satisfied: click in d:\\program files\\anaconda3\\lib\\site-packages (from sacremoses->transformers) (7.1.2)\n",
      "Requirement already satisfied: joblib in d:\\program files\\anaconda3\\lib\\site-packages (from sacremoses->transformers) (0.17.0)\n",
      "Installing collected packages: tokenizers, huggingface-hub, sacremoses, transformers\n",
      "Successfully installed huggingface-hub-0.0.8 sacremoses-0.0.45 tokenizers-0.10.2 transformers-4.6.1\n",
      "Requirement already satisfied: transformers in d:\\program files\\anaconda3\\lib\\site-packages (4.6.1)\n",
      "Requirement already satisfied: packaging in d:\\program files\\anaconda3\\lib\\site-packages (from transformers) (20.4)\n",
      "Requirement already satisfied: numpy>=1.17 in d:\\program files\\anaconda3\\lib\\site-packages (from transformers) (1.19.2)\n",
      "Requirement already satisfied: tqdm>=4.27 in d:\\program files\\anaconda3\\lib\\site-packages (from transformers) (4.50.2)\n",
      "Requirement already satisfied: sacremoses in d:\\program files\\anaconda3\\lib\\site-packages (from transformers) (0.0.45)\n",
      "Requirement already satisfied: huggingface-hub==0.0.8 in d:\\program files\\anaconda3\\lib\\site-packages (from transformers) (0.0.8)\n",
      "Requirement already satisfied: requests in d:\\program files\\anaconda3\\lib\\site-packages (from transformers) (2.24.0)\n",
      "Requirement already satisfied: tokenizers<0.11,>=0.10.1 in d:\\program files\\anaconda3\\lib\\site-packages (from transformers) (0.10.2)\n",
      "Requirement already satisfied: filelock in d:\\program files\\anaconda3\\lib\\site-packages (from transformers) (3.0.12)\n",
      "Requirement already satisfied: regex!=2019.12.17 in d:\\program files\\anaconda3\\lib\\site-packages (from transformers) (2020.10.15)\n",
      "Requirement already satisfied: pyparsing>=2.0.2 in d:\\program files\\anaconda3\\lib\\site-packages (from packaging->transformers) (2.4.7)\n",
      "Requirement already satisfied: six in d:\\program files\\anaconda3\\lib\\site-packages (from packaging->transformers) (1.15.0)\n",
      "Requirement already satisfied: click in d:\\program files\\anaconda3\\lib\\site-packages (from sacremoses->transformers) (7.1.2)\n",
      "Requirement already satisfied: joblib in d:\\program files\\anaconda3\\lib\\site-packages (from sacremoses->transformers) (0.17.0)\n",
      "Requirement already satisfied: chardet<4,>=3.0.2 in d:\\program files\\anaconda3\\lib\\site-packages (from requests->transformers) (3.0.4)\n",
      "Requirement already satisfied: certifi>=2017.4.17 in d:\\program files\\anaconda3\\lib\\site-packages (from requests->transformers) (2020.12.5)\n",
      "Requirement already satisfied: idna<3,>=2.5 in d:\\program files\\anaconda3\\lib\\site-packages (from requests->transformers) (2.10)\n",
      "Requirement already satisfied: urllib3!=1.25.0,!=1.25.1,<1.26,>=1.21.1 in d:\\program files\\anaconda3\\lib\\site-packages (from requests->transformers) (1.25.11)\n"
     ]
    }
   ],
   "source": [
    "!pip install transformers"
   ]
  },
  {
   "cell_type": "code",
   "execution_count": 100,
   "metadata": {
    "collapsed": true,
    "jupyter": {
     "outputs_hidden": true
    }
   },
   "outputs": [
    {
     "name": "stdout",
     "output_type": "stream",
     "text": [
      "Collecting torch\n",
      "  Downloading torch-1.8.1-cp38-cp38-win_amd64.whl (190.5 MB)\n",
      "Requirement already satisfied: typing-extensions in d:\\program files\\anaconda3\\lib\\site-packages (from torch) (3.7.4.3)\n",
      "Requirement already satisfied: numpy in d:\\program files\\anaconda3\\lib\\site-packages (from torch) (1.19.2)\n",
      "Installing collected packages: torch\n",
      "Successfully installed torch-1.8.1\n"
     ]
    }
   ],
   "source": [
    "!pip install torch"
   ]
  },
  {
   "cell_type": "code",
   "execution_count": 8,
   "metadata": {},
   "outputs": [],
   "source": [
    "import pandas as pd\n",
    "import numpy as np\n",
    "import matplotlib.pyplot as plt\n",
    "import seaborn as sns"
   ]
  },
  {
   "cell_type": "code",
   "execution_count": 129,
   "metadata": {},
   "outputs": [],
   "source": [
    "from sklearn.preprocessing import LabelEncoder\n",
    "from nltk.corpus import stopwords\n",
    "import nltk\n",
    "from nltk.tokenize import word_tokenize\n",
    "from sklearn.feature_extraction.text import TfidfVectorizer\n",
    "from transformers import BertTokenizer, TFBertModel\n",
    "import tensorflow as tf\n",
    "from sklearn.ensemble import GradientBoostingClassifier\n",
    "from sklearn.model_selection import train_test_split\n",
    "from xgboost import XGBClassifier\n",
    "from sklearn.metrics import f1_score\n",
    "from sklearn.feature_extraction.text import TfidfTransformer\n",
    "from sklearn.feature_extraction.text import CountVectorizer\n",
    "from sklearn.feature_extraction.text import TfidfVectorizer\n",
    "import tokenize\n",
    "from sklearn.linear_model import LogisticRegression\n",
    "from sklearn.metrics import f1_score"
   ]
  },
  {
   "cell_type": "code",
   "execution_count": 101,
   "metadata": {},
   "outputs": [],
   "source": [
    "import tokenizers\n",
    "import torch\n",
    "import transformers\n",
    "import types\n",
    "from tqdm import tqdm\n",
    "import os\n",
    "from tensorflow.keras.layers import Dense, Input\n",
    "from tensorflow.keras.optimizers import Adam\n",
    "from tensorflow.keras.models import Model\n",
    "from tensorflow.keras.callbacks import ModelCheckpoint\n",
    "import transformers\n",
    "\n",
    "from tokenizers import BertWordPieceTokenizer"
   ]
  },
  {
   "cell_type": "code",
   "execution_count": 86,
   "metadata": {
    "collapsed": true,
    "jupyter": {
     "outputs_hidden": true
    }
   },
   "outputs": [
    {
     "name": "stderr",
     "output_type": "stream",
     "text": [
      "[nltk_data] Downloading package stopwords to\n",
      "[nltk_data]     C:\\Users\\nurla\\AppData\\Roaming\\nltk_data...\n",
      "[nltk_data]   Unzipping corpora\\stopwords.zip.\n"
     ]
    },
    {
     "data": {
      "text/plain": [
       "True"
      ]
     },
     "execution_count": 86,
     "metadata": {},
     "output_type": "execute_result"
    }
   ],
   "source": [
    "nltk.download('stopwords')"
   ]
  },
  {
   "cell_type": "code",
   "execution_count": 10,
   "metadata": {},
   "outputs": [],
   "source": [
    "train = pd.read_csv(\"C:/Users/nurla/Desktop/Datascience/RuCode-2020 Fake job posting/data/train_data.csv\")\n",
    "test = pd.read_csv(\"C:/Users/nurla/Desktop/Datascience/RuCode-2020 Fake job posting/data/test_data.csv\")"
   ]
  },
  {
   "cell_type": "code",
   "execution_count": 11,
   "metadata": {},
   "outputs": [
    {
     "data": {
      "text/html": [
       "<div>\n",
       "<style scoped>\n",
       "    .dataframe tbody tr th:only-of-type {\n",
       "        vertical-align: middle;\n",
       "    }\n",
       "\n",
       "    .dataframe tbody tr th {\n",
       "        vertical-align: top;\n",
       "    }\n",
       "\n",
       "    .dataframe thead th {\n",
       "        text-align: right;\n",
       "    }\n",
       "</style>\n",
       "<table border=\"1\" class=\"dataframe\">\n",
       "  <thead>\n",
       "    <tr style=\"text-align: right;\">\n",
       "      <th></th>\n",
       "      <th>Id</th>\n",
       "      <th>Фейк</th>\n",
       "    </tr>\n",
       "  </thead>\n",
       "  <tbody>\n",
       "    <tr>\n",
       "      <th>0</th>\n",
       "      <td>10728</td>\n",
       "      <td>0</td>\n",
       "    </tr>\n",
       "    <tr>\n",
       "      <th>1</th>\n",
       "      <td>10729</td>\n",
       "      <td>0</td>\n",
       "    </tr>\n",
       "    <tr>\n",
       "      <th>2</th>\n",
       "      <td>10730</td>\n",
       "      <td>0</td>\n",
       "    </tr>\n",
       "    <tr>\n",
       "      <th>3</th>\n",
       "      <td>10731</td>\n",
       "      <td>0</td>\n",
       "    </tr>\n",
       "    <tr>\n",
       "      <th>4</th>\n",
       "      <td>10732</td>\n",
       "      <td>0</td>\n",
       "    </tr>\n",
       "  </tbody>\n",
       "</table>\n",
       "</div>"
      ],
      "text/plain": [
       "      Id  Фейк\n",
       "0  10728     0\n",
       "1  10729     0\n",
       "2  10730     0\n",
       "3  10731     0\n",
       "4  10732     0"
      ]
     },
     "execution_count": 11,
     "metadata": {},
     "output_type": "execute_result"
    }
   ],
   "source": [
    "sub = pd.read_csv(\"C:/Users/nurla/Desktop/Datascience/RuCode-2020 Fake job posting/data//sample_submission.csv\")\n",
    "sub.head()"
   ]
  },
  {
   "cell_type": "code",
   "execution_count": 12,
   "metadata": {},
   "outputs": [
    {
     "data": {
      "text/html": [
       "<div>\n",
       "<style scoped>\n",
       "    .dataframe tbody tr th:only-of-type {\n",
       "        vertical-align: middle;\n",
       "    }\n",
       "\n",
       "    .dataframe tbody tr th {\n",
       "        vertical-align: top;\n",
       "    }\n",
       "\n",
       "    .dataframe thead th {\n",
       "        text-align: right;\n",
       "    }\n",
       "</style>\n",
       "<table border=\"1\" class=\"dataframe\">\n",
       "  <thead>\n",
       "    <tr style=\"text-align: right;\">\n",
       "      <th></th>\n",
       "      <th>Id</th>\n",
       "      <th>Название</th>\n",
       "      <th>Место</th>\n",
       "      <th>Отдел</th>\n",
       "      <th>Зарплата</th>\n",
       "      <th>Описание компании</th>\n",
       "      <th>Описание вакансии</th>\n",
       "      <th>Требования</th>\n",
       "      <th>Соцпакет</th>\n",
       "      <th>Дистанционно</th>\n",
       "      <th>Вопросы</th>\n",
       "      <th>Тип занятости</th>\n",
       "      <th>Опыт</th>\n",
       "      <th>Образование</th>\n",
       "      <th>Индустрия</th>\n",
       "      <th>Позиция</th>\n",
       "      <th>Фейк</th>\n",
       "    </tr>\n",
       "  </thead>\n",
       "  <tbody>\n",
       "    <tr>\n",
       "      <th>0</th>\n",
       "      <td>10497</td>\n",
       "      <td>Reporter, Agri Investor</td>\n",
       "      <td>US, ,</td>\n",
       "      <td>KHR</td>\n",
       "      <td>NaN</td>\n",
       "      <td>PEI Media (#URL_4cffe430b8da4c0d7e6074d11e638d...</td>\n",
       "      <td>Seeking savvy business reporter Are you a news...</td>\n",
       "      <td>The successful candidate should have a bachelo...</td>\n",
       "      <td>PEI Media (#URL_4cffe430b8da4c0d7e6074d11e638d...</td>\n",
       "      <td>0</td>\n",
       "      <td>0</td>\n",
       "      <td>Full-time</td>\n",
       "      <td>Associate</td>\n",
       "      <td>Bachelor's Degree</td>\n",
       "      <td>Publishing</td>\n",
       "      <td>Writing/Editing</td>\n",
       "      <td>0</td>\n",
       "    </tr>\n",
       "    <tr>\n",
       "      <th>1</th>\n",
       "      <td>8219</td>\n",
       "      <td>Software Engineer</td>\n",
       "      <td>US, VA, Herndon</td>\n",
       "      <td>Software Engineering</td>\n",
       "      <td>NaN</td>\n",
       "      <td>Roka Security is a boutique security firm that...</td>\n",
       "      <td>Roka Security is looking for Software Engineer...</td>\n",
       "      <td>NaN</td>\n",
       "      <td>NaN</td>\n",
       "      <td>0</td>\n",
       "      <td>0</td>\n",
       "      <td>Full-time</td>\n",
       "      <td>Not Applicable</td>\n",
       "      <td>Unspecified</td>\n",
       "      <td>Computer Software</td>\n",
       "      <td>Engineering</td>\n",
       "      <td>0</td>\n",
       "    </tr>\n",
       "    <tr>\n",
       "      <th>2</th>\n",
       "      <td>5342</td>\n",
       "      <td>Structural Engineer</td>\n",
       "      <td>NL, ZH, Rotterdam</td>\n",
       "      <td>onshore</td>\n",
       "      <td>NaN</td>\n",
       "      <td>NaN</td>\n",
       "      <td>Job tasks:Analyse project specifications on st...</td>\n",
       "      <td>Job requirements:HTS/TU Civil Engineering or M...</td>\n",
       "      <td>NaN</td>\n",
       "      <td>0</td>\n",
       "      <td>1</td>\n",
       "      <td>NaN</td>\n",
       "      <td>NaN</td>\n",
       "      <td>NaN</td>\n",
       "      <td>NaN</td>\n",
       "      <td>NaN</td>\n",
       "      <td>0</td>\n",
       "    </tr>\n",
       "    <tr>\n",
       "      <th>3</th>\n",
       "      <td>1916</td>\n",
       "      <td>Senior Publishing Specialist</td>\n",
       "      <td>US, ,</td>\n",
       "      <td>NaN</td>\n",
       "      <td>NaN</td>\n",
       "      <td>NaN</td>\n",
       "      <td>The Senior Publishing Specialist will be part ...</td>\n",
       "      <td>Minimum of 3 – 4 years experience in Regulator...</td>\n",
       "      <td>NaN</td>\n",
       "      <td>0</td>\n",
       "      <td>0</td>\n",
       "      <td>NaN</td>\n",
       "      <td>NaN</td>\n",
       "      <td>NaN</td>\n",
       "      <td>NaN</td>\n",
       "      <td>NaN</td>\n",
       "      <td>0</td>\n",
       "    </tr>\n",
       "    <tr>\n",
       "      <th>4</th>\n",
       "      <td>1811</td>\n",
       "      <td>Sales Representative</td>\n",
       "      <td>CA, BC, Vancouver</td>\n",
       "      <td>Sales &amp; Marketing</td>\n",
       "      <td>NaN</td>\n",
       "      <td>NaN</td>\n",
       "      <td>BCCC Enterprises provides management consultin...</td>\n",
       "      <td>Key Responsibilities:Contribute to the financi...</td>\n",
       "      <td>How to ApplyThis is an exciting opportunity. ...</td>\n",
       "      <td>0</td>\n",
       "      <td>1</td>\n",
       "      <td>NaN</td>\n",
       "      <td>NaN</td>\n",
       "      <td>NaN</td>\n",
       "      <td>NaN</td>\n",
       "      <td>NaN</td>\n",
       "      <td>0</td>\n",
       "    </tr>\n",
       "  </tbody>\n",
       "</table>\n",
       "</div>"
      ],
      "text/plain": [
       "      Id                       Название              Место  \\\n",
       "0  10497        Reporter, Agri Investor             US, ,    \n",
       "1   8219              Software Engineer    US, VA, Herndon   \n",
       "2   5342            Structural Engineer  NL, ZH, Rotterdam   \n",
       "3   1916  Senior Publishing Specialist              US, ,    \n",
       "4   1811          Sales Representative   CA, BC, Vancouver   \n",
       "\n",
       "                  Отдел Зарплата  \\\n",
       "0                   KHR      NaN   \n",
       "1  Software Engineering      NaN   \n",
       "2               onshore      NaN   \n",
       "3                   NaN      NaN   \n",
       "4     Sales & Marketing      NaN   \n",
       "\n",
       "                                   Описание компании  \\\n",
       "0  PEI Media (#URL_4cffe430b8da4c0d7e6074d11e638d...   \n",
       "1  Roka Security is a boutique security firm that...   \n",
       "2                                                NaN   \n",
       "3                                                NaN   \n",
       "4                                                NaN   \n",
       "\n",
       "                                   Описание вакансии  \\\n",
       "0  Seeking savvy business reporter Are you a news...   \n",
       "1  Roka Security is looking for Software Engineer...   \n",
       "2  Job tasks:Analyse project specifications on st...   \n",
       "3  The Senior Publishing Specialist will be part ...   \n",
       "4  BCCC Enterprises provides management consultin...   \n",
       "\n",
       "                                          Требования  \\\n",
       "0  The successful candidate should have a bachelo...   \n",
       "1                                                NaN   \n",
       "2  Job requirements:HTS/TU Civil Engineering or M...   \n",
       "3  Minimum of 3 – 4 years experience in Regulator...   \n",
       "4  Key Responsibilities:Contribute to the financi...   \n",
       "\n",
       "                                            Соцпакет  Дистанционно  Вопросы  \\\n",
       "0  PEI Media (#URL_4cffe430b8da4c0d7e6074d11e638d...             0        0   \n",
       "1                                                NaN             0        0   \n",
       "2                                                NaN             0        1   \n",
       "3                                                NaN             0        0   \n",
       "4   How to ApplyThis is an exciting opportunity. ...             0        1   \n",
       "\n",
       "  Тип занятости            Опыт        Образование          Индустрия  \\\n",
       "0     Full-time       Associate  Bachelor's Degree         Publishing   \n",
       "1     Full-time  Not Applicable        Unspecified  Computer Software   \n",
       "2           NaN             NaN                NaN                NaN   \n",
       "3           NaN             NaN                NaN                NaN   \n",
       "4           NaN             NaN                NaN                NaN   \n",
       "\n",
       "           Позиция  Фейк  \n",
       "0  Writing/Editing     0  \n",
       "1      Engineering     0  \n",
       "2              NaN     0  \n",
       "3              NaN     0  \n",
       "4              NaN     0  "
      ]
     },
     "execution_count": 12,
     "metadata": {},
     "output_type": "execute_result"
    }
   ],
   "source": [
    "train.head()"
   ]
  },
  {
   "cell_type": "code",
   "execution_count": 13,
   "metadata": {},
   "outputs": [
    {
     "data": {
      "text/html": [
       "<div>\n",
       "<style scoped>\n",
       "    .dataframe tbody tr th:only-of-type {\n",
       "        vertical-align: middle;\n",
       "    }\n",
       "\n",
       "    .dataframe tbody tr th {\n",
       "        vertical-align: top;\n",
       "    }\n",
       "\n",
       "    .dataframe thead th {\n",
       "        text-align: right;\n",
       "    }\n",
       "</style>\n",
       "<table border=\"1\" class=\"dataframe\">\n",
       "  <thead>\n",
       "    <tr style=\"text-align: right;\">\n",
       "      <th></th>\n",
       "      <th>Id</th>\n",
       "      <th>Название</th>\n",
       "      <th>Место</th>\n",
       "      <th>Отдел</th>\n",
       "      <th>Зарплата</th>\n",
       "      <th>Описание компании</th>\n",
       "      <th>Описание вакансии</th>\n",
       "      <th>Требования</th>\n",
       "      <th>Соцпакет</th>\n",
       "      <th>Дистанционно</th>\n",
       "      <th>Вопросы</th>\n",
       "      <th>Тип занятости</th>\n",
       "      <th>Опыт</th>\n",
       "      <th>Образование</th>\n",
       "      <th>Индустрия</th>\n",
       "      <th>Позиция</th>\n",
       "    </tr>\n",
       "  </thead>\n",
       "  <tbody>\n",
       "    <tr>\n",
       "      <th>0</th>\n",
       "      <td>10728</td>\n",
       "      <td>Internet Marketing Specialist</td>\n",
       "      <td>IE, L, Dublin</td>\n",
       "      <td>Marketing</td>\n",
       "      <td>NaN</td>\n",
       "      <td>NaN</td>\n",
       "      <td>This role represents an important position wit...</td>\n",
       "      <td> 3 to 10+ years experience in a similar inter...</td>\n",
       "      <td>RemunerationA highly attractive salary will be...</td>\n",
       "      <td>0</td>\n",
       "      <td>0</td>\n",
       "      <td>NaN</td>\n",
       "      <td>NaN</td>\n",
       "      <td>NaN</td>\n",
       "      <td>NaN</td>\n",
       "      <td>NaN</td>\n",
       "    </tr>\n",
       "    <tr>\n",
       "      <th>1</th>\n",
       "      <td>10729</td>\n",
       "      <td>Business Development</td>\n",
       "      <td>DE, , Berlin</td>\n",
       "      <td>NaN</td>\n",
       "      <td>NaN</td>\n",
       "      <td>We are on a mission: Making cities smarter.Cit...</td>\n",
       "      <td>You have an opinion about how we can make our ...</td>\n",
       "      <td>NaN</td>\n",
       "      <td>NaN</td>\n",
       "      <td>0</td>\n",
       "      <td>1</td>\n",
       "      <td>NaN</td>\n",
       "      <td>NaN</td>\n",
       "      <td>NaN</td>\n",
       "      <td>NaN</td>\n",
       "      <td>NaN</td>\n",
       "    </tr>\n",
       "    <tr>\n",
       "      <th>2</th>\n",
       "      <td>10730</td>\n",
       "      <td>Sonographer - Full and Part Time Opportunities</td>\n",
       "      <td>GB, ,</td>\n",
       "      <td>Ultrasound</td>\n",
       "      <td>NaN</td>\n",
       "      <td>Diagnostic Health deploy and manage high quali...</td>\n",
       "      <td>We are a leading local ultrasound company spec...</td>\n",
       "      <td>Diploma of College of Radiographers or BSc (Ho...</td>\n",
       "      <td>Competative SalaryHours to suit</td>\n",
       "      <td>0</td>\n",
       "      <td>1</td>\n",
       "      <td>Part-time</td>\n",
       "      <td>NaN</td>\n",
       "      <td>Associate Degree</td>\n",
       "      <td>Medical Practice</td>\n",
       "      <td>Health Care Provider</td>\n",
       "    </tr>\n",
       "    <tr>\n",
       "      <th>3</th>\n",
       "      <td>10731</td>\n",
       "      <td>Care Support Worker</td>\n",
       "      <td>GB, EDH, Edinburgh</td>\n",
       "      <td>NaN</td>\n",
       "      <td>NaN</td>\n",
       "      <td>Social Care Alba is the highest graded Care at...</td>\n",
       "      <td>Social Care Alba is the highest quality Care a...</td>\n",
       "      <td>Key Accountabilities would be:To provide indiv...</td>\n",
       "      <td>This is your chance to become part of our cont...</td>\n",
       "      <td>0</td>\n",
       "      <td>1</td>\n",
       "      <td>NaN</td>\n",
       "      <td>Not Applicable</td>\n",
       "      <td>NaN</td>\n",
       "      <td>Hospital &amp; Health Care</td>\n",
       "      <td>NaN</td>\n",
       "    </tr>\n",
       "    <tr>\n",
       "      <th>4</th>\n",
       "      <td>10732</td>\n",
       "      <td>Outside Sales Professional-Springfield</td>\n",
       "      <td>US, IL, Springfield</td>\n",
       "      <td>NaN</td>\n",
       "      <td>NaN</td>\n",
       "      <td>ABC Supply Co., Inc. is the nation’s largest w...</td>\n",
       "      <td>As an Outside Sales Representative, you must h...</td>\n",
       "      <td>Track Record of Sales Success – B2B or B2CNo m...</td>\n",
       "      <td>As an Outside Sales Representative, you will r...</td>\n",
       "      <td>0</td>\n",
       "      <td>0</td>\n",
       "      <td>NaN</td>\n",
       "      <td>NaN</td>\n",
       "      <td>NaN</td>\n",
       "      <td>NaN</td>\n",
       "      <td>NaN</td>\n",
       "    </tr>\n",
       "  </tbody>\n",
       "</table>\n",
       "</div>"
      ],
      "text/plain": [
       "      Id                                        Название                Место  \\\n",
       "0  10728                   Internet Marketing Specialist        IE, L, Dublin   \n",
       "1  10729                            Business Development         DE, , Berlin   \n",
       "2  10730  Sonographer - Full and Part Time Opportunities               GB, ,    \n",
       "3  10731                            Care Support Worker    GB, EDH, Edinburgh   \n",
       "4  10732          Outside Sales Professional-Springfield  US, IL, Springfield   \n",
       "\n",
       "        Отдел Зарплата                                  Описание компании  \\\n",
       "0   Marketing      NaN                                                NaN   \n",
       "1         NaN      NaN  We are on a mission: Making cities smarter.Cit...   \n",
       "2  Ultrasound      NaN  Diagnostic Health deploy and manage high quali...   \n",
       "3         NaN      NaN  Social Care Alba is the highest graded Care at...   \n",
       "4         NaN      NaN  ABC Supply Co., Inc. is the nation’s largest w...   \n",
       "\n",
       "                                   Описание вакансии  \\\n",
       "0  This role represents an important position wit...   \n",
       "1  You have an opinion about how we can make our ...   \n",
       "2  We are a leading local ultrasound company spec...   \n",
       "3  Social Care Alba is the highest quality Care a...   \n",
       "4  As an Outside Sales Representative, you must h...   \n",
       "\n",
       "                                          Требования  \\\n",
       "0   3 to 10+ years experience in a similar inter...   \n",
       "1                                                NaN   \n",
       "2  Diploma of College of Radiographers or BSc (Ho...   \n",
       "3  Key Accountabilities would be:To provide indiv...   \n",
       "4  Track Record of Sales Success – B2B or B2CNo m...   \n",
       "\n",
       "                                            Соцпакет  Дистанционно  Вопросы  \\\n",
       "0  RemunerationA highly attractive salary will be...             0        0   \n",
       "1                                                NaN             0        1   \n",
       "2                    Competative SalaryHours to suit             0        1   \n",
       "3  This is your chance to become part of our cont...             0        1   \n",
       "4  As an Outside Sales Representative, you will r...             0        0   \n",
       "\n",
       "  Тип занятости            Опыт       Образование               Индустрия  \\\n",
       "0           NaN             NaN               NaN                     NaN   \n",
       "1           NaN             NaN               NaN                     NaN   \n",
       "2     Part-time             NaN  Associate Degree        Medical Practice   \n",
       "3           NaN  Not Applicable               NaN  Hospital & Health Care   \n",
       "4           NaN             NaN               NaN                     NaN   \n",
       "\n",
       "                Позиция  \n",
       "0                   NaN  \n",
       "1                   NaN  \n",
       "2  Health Care Provider  \n",
       "3                   NaN  \n",
       "4                   NaN  "
      ]
     },
     "execution_count": 13,
     "metadata": {},
     "output_type": "execute_result"
    }
   ],
   "source": [
    "test.head()"
   ]
  },
  {
   "cell_type": "code",
   "execution_count": 21,
   "metadata": {},
   "outputs": [
    {
     "data": {
      "text/plain": [
       "182376"
      ]
     },
     "execution_count": 21,
     "metadata": {},
     "output_type": "execute_result"
    }
   ],
   "source": [
    "train.size"
   ]
  },
  {
   "cell_type": "code",
   "execution_count": 22,
   "metadata": {},
   "outputs": [
    {
     "data": {
      "text/plain": [
       "114432"
      ]
     },
     "execution_count": 22,
     "metadata": {},
     "output_type": "execute_result"
    }
   ],
   "source": [
    "test.size"
   ]
  },
  {
   "cell_type": "code",
   "execution_count": 23,
   "metadata": {},
   "outputs": [
    {
     "name": "stdout",
     "output_type": "stream",
     "text": [
      "Train shape: (10728, 17)\n",
      "Test shape: (7152, 16)\n"
     ]
    }
   ],
   "source": [
    "print(\"Train shape: {}\".format(train.shape))\n",
    "print(\"Test shape: {}\".format(test.shape))"
   ]
  },
  {
   "cell_type": "code",
   "execution_count": 24,
   "metadata": {},
   "outputs": [
    {
     "name": "stdout",
     "output_type": "stream",
     "text": [
      "<class 'pandas.core.frame.DataFrame'>\n",
      "RangeIndex: 10728 entries, 0 to 10727\n",
      "Data columns (total 17 columns):\n",
      " #   Column             Non-Null Count  Dtype \n",
      "---  ------             --------------  ----- \n",
      " 0   Id                 10728 non-null  int64 \n",
      " 1   Название           10728 non-null  object\n",
      " 2   Место              10504 non-null  object\n",
      " 3   Отдел              3758 non-null   object\n",
      " 4   Зарплата           1730 non-null   object\n",
      " 5   Описание компании  8682 non-null   object\n",
      " 6   Описание вакансии  10728 non-null  object\n",
      " 7   Требования         9097 non-null   object\n",
      " 8   Соцпакет           6397 non-null   object\n",
      " 9   Дистанционно       10728 non-null  int64 \n",
      " 10  Вопросы            10728 non-null  int64 \n",
      " 11  Тип занятости      8586 non-null   object\n",
      " 12  Опыт               6478 non-null   object\n",
      " 13  Образование        5836 non-null   object\n",
      " 14  Индустрия          7775 non-null   object\n",
      " 15  Позиция            6853 non-null   object\n",
      " 16  Фейк               10728 non-null  int64 \n",
      "dtypes: int64(4), object(13)\n",
      "memory usage: 1.4+ MB\n"
     ]
    }
   ],
   "source": [
    "train.info()"
   ]
  },
  {
   "cell_type": "code",
   "execution_count": 25,
   "metadata": {},
   "outputs": [
    {
     "data": {
      "text/plain": [
       "2313"
      ]
     },
     "execution_count": 25,
     "metadata": {},
     "output_type": "execute_result"
    }
   ],
   "source": [
    "train.Место.nunique()"
   ]
  },
  {
   "cell_type": "code",
   "execution_count": 26,
   "metadata": {},
   "outputs": [
    {
     "data": {
      "text/plain": [
       "952"
      ]
     },
     "execution_count": 26,
     "metadata": {},
     "output_type": "execute_result"
    }
   ],
   "source": [
    "train.Отдел.nunique()"
   ]
  },
  {
   "cell_type": "markdown",
   "metadata": {},
   "source": [
    "### Working with missing values"
   ]
  },
  {
   "cell_type": "code",
   "execution_count": 27,
   "metadata": {},
   "outputs": [
    {
     "data": {
      "text/plain": [
       "<AxesSubplot:>"
      ]
     },
     "execution_count": 27,
     "metadata": {},
     "output_type": "execute_result"
    },
    {
     "data": {
      "image/png": "[encoded data removed]",
      "text/plain": [
       "<Figure size 864x576 with 1 Axes>"
      ]
     },
     "metadata": {
      "needs_background": "light"
     },
     "output_type": "display_data"
    }
   ],
   "source": [
    "null_df = train.isnull().sum().sort_values(ascending=False)\n",
    "plt.figure(figsize=(12, 8))\n",
    "null_df.plot.bar()"
   ]
  },
  {
   "cell_type": "code",
   "execution_count": 28,
   "metadata": {},
   "outputs": [
    {
     "data": {
      "text/plain": [
       "Зарплата             8998\n",
       "Отдел                6970\n",
       "Образование          4892\n",
       "Соцпакет             4331\n",
       "Опыт                 4250\n",
       "Позиция              3875\n",
       "Индустрия            2953\n",
       "Тип занятости        2142\n",
       "Описание компании    2046\n",
       "Требования           1631\n",
       "Место                 224\n",
       "Название                0\n",
       "Фейк                    0\n",
       "Описание вакансии       0\n",
       "Дистанционно            0\n",
       "Вопросы                 0\n",
       "Id                      0\n",
       "dtype: int64"
      ]
     },
     "execution_count": 28,
     "metadata": {},
     "output_type": "execute_result"
    }
   ],
   "source": [
    "null_df"
   ]
  },
  {
   "cell_type": "code",
   "execution_count": 29,
   "metadata": {},
   "outputs": [
    {
     "data": {
      "text/plain": [
       "0                    [US,  ,  ]\n",
       "1           [US,  VA,  Herndon]\n",
       "2         [NL,  ZH,  Rotterdam]\n",
       "3                    [US,  ,  ]\n",
       "4         [CA,  BC,  Vancouver]\n",
       "5      [GB,  LND,  Westminster]\n",
       "6         [US,  CA,  San Mateo]\n",
       "7        [US,  KY,  Louisville]\n",
       "8            [US,  NY,  Albany]\n",
       "9            [BE,  ,  Brussels]\n",
       "10               [US,  NY,  NY]\n",
       "11           [US,  MA,  Boston]\n",
       "12           [DE,  BE,  Berlin]\n",
       "13          [US,  TX,  Houston]\n",
       "14       [US,  DC,  Washington]\n",
       "15           [US,  MA,  Boston]\n",
       "16                   [NZ,  ,  ]\n",
       "17          [GB,  UKM,  London]\n",
       "18       [US,  TX,  Round Rock]\n",
       "19          [GB,  ISL,  London]\n",
       "20         [GB,  ,  Birmingham]\n",
       "21        [US,  OH,  Cleveland]\n",
       "22          [US,  CA,  Modesto]\n",
       "23          [US,  MI,  Detroit]\n",
       "24          [NL,  ,  Amsterdam]\n",
       "25       [GB,  SHF,  Sheffield]\n",
       "26      [GB,  CAM,  Huntingdon]\n",
       "27             [DE,  ,  Berlin]\n",
       "28          [US,  TX,  Houston]\n",
       "29      [US,  MN,  Coon Rapids]\n",
       "30          [GB,  LND,  London]\n",
       "31    [US,  CA,  San Francisco]\n",
       "32          [GB,  LND,  London]\n",
       "33     [PH,  00,  QUEZON CITY ]\n",
       "34          [CA,  ON,  Toronto]\n",
       "35                   [GR,  ,  ]\n",
       "36     [US,  IN,  Indianapolis]\n",
       "37    [US,  TX,  Missouri City]\n",
       "38          [GB,  CMD,  London]\n",
       "39    [US,  OK,  Oklahoma City]\n",
       "40          [GB,  LND,  London]\n",
       "41    [US,  CA,  Orange County]\n",
       "42        [SG,  01,  Singapore]\n",
       "43          [US,  TX,  Houston]\n",
       "44    [US,  NC,  Winston-Salem]\n",
       "45      [US,  CA,  Bakersfield]\n",
       "46          [AU,  NSW,  Sydney]\n",
       "47        [US,  CA,  Roseville]\n",
       "48                          NaN\n",
       "49        [US,  SC,  Greenwood]\n",
       "Name: Место, dtype: object"
      ]
     },
     "execution_count": 29,
     "metadata": {},
     "output_type": "execute_result"
    }
   ],
   "source": [
    "train['Место'].str.split(\",\")[:50]"
   ]
  },
  {
   "cell_type": "code",
   "execution_count": 30,
   "metadata": {},
   "outputs": [
    {
     "data": {
      "text/plain": [
       "Зарплата             0.838740\n",
       "Отдел                0.649702\n",
       "Образование          0.456003\n",
       "Соцпакет             0.403710\n",
       "Опыт                 0.396160\n",
       "Позиция              0.361204\n",
       "Индустрия            0.275261\n",
       "Тип занятости        0.199664\n",
       "Описание компании    0.190716\n",
       "Требования           0.152032\n",
       "Место                0.020880\n",
       "Название             0.000000\n",
       "Фейк                 0.000000\n",
       "Описание вакансии    0.000000\n",
       "Дистанционно         0.000000\n",
       "Вопросы              0.000000\n",
       "Id                   0.000000\n",
       "dtype: float64"
      ]
     },
     "execution_count": 30,
     "metadata": {},
     "output_type": "execute_result"
    }
   ],
   "source": [
    "train.isnull().mean().sort_values(ascending=False)"
   ]
  },
  {
   "cell_type": "code",
   "execution_count": 31,
   "metadata": {},
   "outputs": [],
   "source": [
    "null = pd.DataFrame(data = {'Train Null Percentage' : train.isnull().sum()[train.isnull().sum()>0] ,\n",
    "                           'Test Null Percentage' : test.isnull().sum()[test.isnull().sum()>0]})"
   ]
  },
  {
   "cell_type": "code",
   "execution_count": 32,
   "metadata": {},
   "outputs": [
    {
     "data": {
      "text/html": [
       "<div>\n",
       "<style scoped>\n",
       "    .dataframe tbody tr th:only-of-type {\n",
       "        vertical-align: middle;\n",
       "    }\n",
       "\n",
       "    .dataframe tbody tr th {\n",
       "        vertical-align: top;\n",
       "    }\n",
       "\n",
       "    .dataframe thead th {\n",
       "        text-align: right;\n",
       "    }\n",
       "</style>\n",
       "<table border=\"1\" class=\"dataframe\">\n",
       "  <thead>\n",
       "    <tr style=\"text-align: right;\">\n",
       "      <th></th>\n",
       "      <th>Train Null Percentage</th>\n",
       "      <th>Test Null Percentage</th>\n",
       "    </tr>\n",
       "    <tr>\n",
       "      <th>Feature</th>\n",
       "      <th></th>\n",
       "      <th></th>\n",
       "    </tr>\n",
       "  </thead>\n",
       "  <tbody>\n",
       "    <tr>\n",
       "      <th>Зарплата</th>\n",
       "      <td>83.873975</td>\n",
       "      <td>56.058911</td>\n",
       "    </tr>\n",
       "    <tr>\n",
       "      <th>Индустрия</th>\n",
       "      <td>27.526100</td>\n",
       "      <td>18.176734</td>\n",
       "    </tr>\n",
       "    <tr>\n",
       "      <th>Место</th>\n",
       "      <td>2.087994</td>\n",
       "      <td>1.137211</td>\n",
       "    </tr>\n",
       "    <tr>\n",
       "      <th>Образование</th>\n",
       "      <td>45.600298</td>\n",
       "      <td>29.949664</td>\n",
       "    </tr>\n",
       "    <tr>\n",
       "      <th>Описание вакансии</th>\n",
       "      <td>NaN</td>\n",
       "      <td>0.009321</td>\n",
       "    </tr>\n",
       "    <tr>\n",
       "      <th>Описание компании</th>\n",
       "      <td>19.071588</td>\n",
       "      <td>11.763609</td>\n",
       "    </tr>\n",
       "    <tr>\n",
       "      <th>Опыт</th>\n",
       "      <td>39.615958</td>\n",
       "      <td>26.099925</td>\n",
       "    </tr>\n",
       "    <tr>\n",
       "      <th>Отдел</th>\n",
       "      <td>64.970172</td>\n",
       "      <td>42.664057</td>\n",
       "    </tr>\n",
       "    <tr>\n",
       "      <th>Позиция</th>\n",
       "      <td>36.120433</td>\n",
       "      <td>24.049217</td>\n",
       "    </tr>\n",
       "    <tr>\n",
       "      <th>Соцпакет</th>\n",
       "      <td>40.370992</td>\n",
       "      <td>26.836316</td>\n",
       "    </tr>\n",
       "    <tr>\n",
       "      <th>Тип занятости</th>\n",
       "      <td>19.966443</td>\n",
       "      <td>12.388143</td>\n",
       "    </tr>\n",
       "    <tr>\n",
       "      <th>Требования</th>\n",
       "      <td>15.203207</td>\n",
       "      <td>9.917972</td>\n",
       "    </tr>\n",
       "  </tbody>\n",
       "</table>\n",
       "</div>"
      ],
      "text/plain": [
       "                   Train Null Percentage  Test Null Percentage\n",
       "Feature                                                       \n",
       "Зарплата                       83.873975             56.058911\n",
       "Индустрия                      27.526100             18.176734\n",
       "Место                           2.087994              1.137211\n",
       "Образование                    45.600298             29.949664\n",
       "Описание вакансии                    NaN              0.009321\n",
       "Описание компании              19.071588             11.763609\n",
       "Опыт                           39.615958             26.099925\n",
       "Отдел                          64.970172             42.664057\n",
       "Позиция                        36.120433             24.049217\n",
       "Соцпакет                       40.370992             26.836316\n",
       "Тип занятости                  19.966443             12.388143\n",
       "Требования                     15.203207              9.917972"
      ]
     },
     "execution_count": 32,
     "metadata": {},
     "output_type": "execute_result"
    }
   ],
   "source": [
    "null = (null/len(train)) * 100\n",
    "null.index.name = 'Feature'\n",
    "null"
   ]
  },
  {
   "cell_type": "code",
   "execution_count": 33,
   "metadata": {},
   "outputs": [
    {
     "data": {
      "text/plain": [
       "Index(['Название', 'Место', 'Отдел', 'Зарплата', 'Описание компании',\n",
       "       'Описание вакансии', 'Требования', 'Соцпакет', 'Тип занятости', 'Опыт',\n",
       "       'Образование', 'Индустрия', 'Позиция'],\n",
       "      dtype='object')"
      ]
     },
     "execution_count": 33,
     "metadata": {},
     "output_type": "execute_result"
    }
   ],
   "source": [
    "cat_features = train.select_dtypes(include=['object']).columns\n",
    "cat_features"
   ]
  },
  {
   "cell_type": "code",
   "execution_count": 34,
   "metadata": {},
   "outputs": [
    {
     "data": {
      "text/plain": [
       "Название                0\n",
       "Место                 224\n",
       "Отдел                6970\n",
       "Зарплата             8998\n",
       "Описание компании    2046\n",
       "Описание вакансии       0\n",
       "Требования           1631\n",
       "Соцпакет             4331\n",
       "Тип занятости        2142\n",
       "Опыт                 4250\n",
       "Образование          4892\n",
       "Индустрия            2953\n",
       "Позиция              3875\n",
       "dtype: int64"
      ]
     },
     "execution_count": 34,
     "metadata": {},
     "output_type": "execute_result"
    }
   ],
   "source": [
    "train_cat = train.select_dtypes(include=['object']).isnull().sum()\n",
    "train_cat"
   ]
  },
  {
   "cell_type": "code",
   "execution_count": 35,
   "metadata": {},
   "outputs": [],
   "source": [
    "train[\"Место\"] = train['Место'].fillna(train['Место'].value_counts().index[0])\n",
    "test[\"Место\"] = test['Место'].fillna(test['Место'].value_counts().index[0])"
   ]
  },
  {
   "cell_type": "code",
   "execution_count": 36,
   "metadata": {},
   "outputs": [],
   "source": [
    "train['Splitted']=train['Место'].str.split(\", \")\n",
    "test['Splitted']=test['Место'].str.split(\", \")"
   ]
  },
  {
   "cell_type": "code",
   "execution_count": 37,
   "metadata": {},
   "outputs": [],
   "source": [
    "train['Страна'] = train['Splitted'].map(lambda x : x[0].strip())\n",
    "test['Страна'] = test['Splitted'].map(lambda x : x[0].strip())"
   ]
  },
  {
   "cell_type": "code",
   "execution_count": 38,
   "metadata": {},
   "outputs": [],
   "source": [
    "train['Штат']=train['Splitted'].map(lambda x: x[1].strip() if len(x)>1 else \"None\")\n",
    "test['Штат']=test['Splitted'].map(lambda x: x[1].strip() if len(x)>1 else \"None\")"
   ]
  },
  {
   "cell_type": "code",
   "execution_count": 39,
   "metadata": {},
   "outputs": [],
   "source": [
    "train['Город']=train['Splitted'].map(lambda x: x[2].strip() if len(x)>1 else \"None\")\n",
    "test['Город']=test['Splitted'].map(lambda x: x[2].strip() if len(x)>1 else \"None\")"
   ]
  },
  {
   "cell_type": "code",
   "execution_count": 40,
   "metadata": {},
   "outputs": [],
   "source": [
    "train.loc[train.Город == \"\", \"Город\"] = \"None\"\n",
    "train.loc[train.Штат == \"\", \"Штат\"] = \"None\"\n",
    "train.loc[train.Страна == \"\", \"Страна\"] = \"None\"\n",
    "\n",
    "test.loc[test.Город == \"\", \"Город\"] = \"None\"\n",
    "test.loc[test.Штат == \"\", \"Штат\"] = \"None\"\n",
    "test.loc[test.Страна == \"\", \"Страна\"] = \"None\""
   ]
  },
  {
   "cell_type": "code",
   "execution_count": 41,
   "metadata": {},
   "outputs": [],
   "source": [
    "train.drop(['Splitted', 'Место'], axis=1, inplace=True)\n",
    "test.drop(['Splitted', 'Место'], axis=1, inplace=True)"
   ]
  },
  {
   "cell_type": "code",
   "execution_count": 42,
   "metadata": {},
   "outputs": [],
   "source": [
    "train.rename(columns={\"Описание компании\": \"Описание_компании\",\n",
    "                     \"Описание вакансии\": \"Описание_вакансии\",\n",
    "                     \"Тип занятости\": \"Тип_занятости\"\n",
    "                     }, inplace = True)\n",
    "\n",
    "test.rename(columns={\"Описание компании\": \"Описание_компании\",\n",
    "                     \"Описание вакансии\": \"Описание_вакансии\",\n",
    "                     \"Тип занятости\": \"Тип_занятости\"\n",
    "                     }, inplace = True)"
   ]
  },
  {
   "cell_type": "code",
   "execution_count": 43,
   "metadata": {},
   "outputs": [
    {
     "data": {
      "text/html": [
       "<div>\n",
       "<style scoped>\n",
       "    .dataframe tbody tr th:only-of-type {\n",
       "        vertical-align: middle;\n",
       "    }\n",
       "\n",
       "    .dataframe tbody tr th {\n",
       "        vertical-align: top;\n",
       "    }\n",
       "\n",
       "    .dataframe thead th {\n",
       "        text-align: right;\n",
       "    }\n",
       "</style>\n",
       "<table border=\"1\" class=\"dataframe\">\n",
       "  <thead>\n",
       "    <tr style=\"text-align: right;\">\n",
       "      <th></th>\n",
       "      <th>Id</th>\n",
       "      <th>Название</th>\n",
       "      <th>Отдел</th>\n",
       "      <th>Зарплата</th>\n",
       "      <th>Описание_компании</th>\n",
       "      <th>Описание_вакансии</th>\n",
       "      <th>Требования</th>\n",
       "      <th>Соцпакет</th>\n",
       "      <th>Дистанционно</th>\n",
       "      <th>Вопросы</th>\n",
       "      <th>Тип_занятости</th>\n",
       "      <th>Опыт</th>\n",
       "      <th>Образование</th>\n",
       "      <th>Индустрия</th>\n",
       "      <th>Позиция</th>\n",
       "      <th>Фейк</th>\n",
       "      <th>Страна</th>\n",
       "      <th>Штат</th>\n",
       "      <th>Город</th>\n",
       "    </tr>\n",
       "  </thead>\n",
       "  <tbody>\n",
       "    <tr>\n",
       "      <th>0</th>\n",
       "      <td>10497</td>\n",
       "      <td>Reporter, Agri Investor</td>\n",
       "      <td>KHR</td>\n",
       "      <td>NaN</td>\n",
       "      <td>PEI Media (#URL_4cffe430b8da4c0d7e6074d11e638d...</td>\n",
       "      <td>Seeking savvy business reporter Are you a news...</td>\n",
       "      <td>The successful candidate should have a bachelo...</td>\n",
       "      <td>PEI Media (#URL_4cffe430b8da4c0d7e6074d11e638d...</td>\n",
       "      <td>0</td>\n",
       "      <td>0</td>\n",
       "      <td>Full-time</td>\n",
       "      <td>Associate</td>\n",
       "      <td>Bachelor's Degree</td>\n",
       "      <td>Publishing</td>\n",
       "      <td>Writing/Editing</td>\n",
       "      <td>0</td>\n",
       "      <td>US</td>\n",
       "      <td>None</td>\n",
       "      <td>None</td>\n",
       "    </tr>\n",
       "    <tr>\n",
       "      <th>1</th>\n",
       "      <td>8219</td>\n",
       "      <td>Software Engineer</td>\n",
       "      <td>Software Engineering</td>\n",
       "      <td>NaN</td>\n",
       "      <td>Roka Security is a boutique security firm that...</td>\n",
       "      <td>Roka Security is looking for Software Engineer...</td>\n",
       "      <td>NaN</td>\n",
       "      <td>NaN</td>\n",
       "      <td>0</td>\n",
       "      <td>0</td>\n",
       "      <td>Full-time</td>\n",
       "      <td>Not Applicable</td>\n",
       "      <td>Unspecified</td>\n",
       "      <td>Computer Software</td>\n",
       "      <td>Engineering</td>\n",
       "      <td>0</td>\n",
       "      <td>US</td>\n",
       "      <td>VA</td>\n",
       "      <td>Herndon</td>\n",
       "    </tr>\n",
       "    <tr>\n",
       "      <th>2</th>\n",
       "      <td>5342</td>\n",
       "      <td>Structural Engineer</td>\n",
       "      <td>onshore</td>\n",
       "      <td>NaN</td>\n",
       "      <td>NaN</td>\n",
       "      <td>Job tasks:Analyse project specifications on st...</td>\n",
       "      <td>Job requirements:HTS/TU Civil Engineering or M...</td>\n",
       "      <td>NaN</td>\n",
       "      <td>0</td>\n",
       "      <td>1</td>\n",
       "      <td>NaN</td>\n",
       "      <td>NaN</td>\n",
       "      <td>NaN</td>\n",
       "      <td>NaN</td>\n",
       "      <td>NaN</td>\n",
       "      <td>0</td>\n",
       "      <td>NL</td>\n",
       "      <td>ZH</td>\n",
       "      <td>Rotterdam</td>\n",
       "    </tr>\n",
       "    <tr>\n",
       "      <th>3</th>\n",
       "      <td>1916</td>\n",
       "      <td>Senior Publishing Specialist</td>\n",
       "      <td>NaN</td>\n",
       "      <td>NaN</td>\n",
       "      <td>NaN</td>\n",
       "      <td>The Senior Publishing Specialist will be part ...</td>\n",
       "      <td>Minimum of 3 – 4 years experience in Regulator...</td>\n",
       "      <td>NaN</td>\n",
       "      <td>0</td>\n",
       "      <td>0</td>\n",
       "      <td>NaN</td>\n",
       "      <td>NaN</td>\n",
       "      <td>NaN</td>\n",
       "      <td>NaN</td>\n",
       "      <td>NaN</td>\n",
       "      <td>0</td>\n",
       "      <td>US</td>\n",
       "      <td>None</td>\n",
       "      <td>None</td>\n",
       "    </tr>\n",
       "    <tr>\n",
       "      <th>4</th>\n",
       "      <td>1811</td>\n",
       "      <td>Sales Representative</td>\n",
       "      <td>Sales &amp; Marketing</td>\n",
       "      <td>NaN</td>\n",
       "      <td>NaN</td>\n",
       "      <td>BCCC Enterprises provides management consultin...</td>\n",
       "      <td>Key Responsibilities:Contribute to the financi...</td>\n",
       "      <td>How to ApplyThis is an exciting opportunity. ...</td>\n",
       "      <td>0</td>\n",
       "      <td>1</td>\n",
       "      <td>NaN</td>\n",
       "      <td>NaN</td>\n",
       "      <td>NaN</td>\n",
       "      <td>NaN</td>\n",
       "      <td>NaN</td>\n",
       "      <td>0</td>\n",
       "      <td>CA</td>\n",
       "      <td>BC</td>\n",
       "      <td>Vancouver</td>\n",
       "    </tr>\n",
       "  </tbody>\n",
       "</table>\n",
       "</div>"
      ],
      "text/plain": [
       "      Id                       Название                 Отдел Зарплата  \\\n",
       "0  10497        Reporter, Agri Investor                   KHR      NaN   \n",
       "1   8219              Software Engineer  Software Engineering      NaN   \n",
       "2   5342            Structural Engineer               onshore      NaN   \n",
       "3   1916  Senior Publishing Specialist                    NaN      NaN   \n",
       "4   1811          Sales Representative      Sales & Marketing      NaN   \n",
       "\n",
       "                                   Описание_компании  \\\n",
       "0  PEI Media (#URL_4cffe430b8da4c0d7e6074d11e638d...   \n",
       "1  Roka Security is a boutique security firm that...   \n",
       "2                                                NaN   \n",
       "3                                                NaN   \n",
       "4                                                NaN   \n",
       "\n",
       "                                   Описание_вакансии  \\\n",
       "0  Seeking savvy business reporter Are you a news...   \n",
       "1  Roka Security is looking for Software Engineer...   \n",
       "2  Job tasks:Analyse project specifications on st...   \n",
       "3  The Senior Publishing Specialist will be part ...   \n",
       "4  BCCC Enterprises provides management consultin...   \n",
       "\n",
       "                                          Требования  \\\n",
       "0  The successful candidate should have a bachelo...   \n",
       "1                                                NaN   \n",
       "2  Job requirements:HTS/TU Civil Engineering or M...   \n",
       "3  Minimum of 3 – 4 years experience in Regulator...   \n",
       "4  Key Responsibilities:Contribute to the financi...   \n",
       "\n",
       "                                            Соцпакет  Дистанционно  Вопросы  \\\n",
       "0  PEI Media (#URL_4cffe430b8da4c0d7e6074d11e638d...             0        0   \n",
       "1                                                NaN             0        0   \n",
       "2                                                NaN             0        1   \n",
       "3                                                NaN             0        0   \n",
       "4   How to ApplyThis is an exciting opportunity. ...             0        1   \n",
       "\n",
       "  Тип_занятости            Опыт        Образование          Индустрия  \\\n",
       "0     Full-time       Associate  Bachelor's Degree         Publishing   \n",
       "1     Full-time  Not Applicable        Unspecified  Computer Software   \n",
       "2           NaN             NaN                NaN                NaN   \n",
       "3           NaN             NaN                NaN                NaN   \n",
       "4           NaN             NaN                NaN                NaN   \n",
       "\n",
       "           Позиция  Фейк Страна  Штат      Город  \n",
       "0  Writing/Editing     0     US  None       None  \n",
       "1      Engineering     0     US    VA    Herndon  \n",
       "2              NaN     0     NL    ZH  Rotterdam  \n",
       "3              NaN     0     US  None       None  \n",
       "4              NaN     0     CA    BC  Vancouver  "
      ]
     },
     "execution_count": 43,
     "metadata": {},
     "output_type": "execute_result"
    }
   ],
   "source": [
    "train.head()"
   ]
  },
  {
   "cell_type": "code",
   "execution_count": 44,
   "metadata": {},
   "outputs": [],
   "source": [
    "train['Страна'] = train['Страна'].astype('str')\n",
    "train['Штат'] = train['Штат'].astype('str')\n",
    "train['Город'] = train['Город'].astype('str')\n",
    "\n",
    "test['Страна'] = test['Страна'].astype('str')\n",
    "test['Штат'] = test['Штат'].astype('str')\n",
    "test['Город'] = test['Город'].astype('str')"
   ]
  },
  {
   "cell_type": "code",
   "execution_count": 45,
   "metadata": {
    "collapsed": true,
    "jupyter": {
     "outputs_hidden": true
    }
   },
   "outputs": [
    {
     "data": {
      "text/plain": [
       "array([nan, '45000-50000', '40000-70000', '20000-500000', '40000-120000',\n",
       "       '240000-600000', '40000-60000', '85-95', '7200-1380000',\n",
       "       '75000-80000', '55000-75000', '20000-260000', '80000-105000',\n",
       "       '120000-125000', '35000-38000', '0-0', '50000-70000',\n",
       "       '27000-34000', '20000-38000', '44624-53764', '5000-7000',\n",
       "       '70000-150000', '35000-65000', '0-35000', '70-150', '14000-36000',\n",
       "       '0-2000', '60000-75000', '25000-30000', '45000-67000',\n",
       "       '30000-40000', '90000-110000', '50000-60000', '18720-21840',\n",
       "       '30000-60000', '26000-30000', '110000-130000', '120000-140000',\n",
       "       '80000-100000', '1000-1500', '36000-52000', '75000-125000',\n",
       "       '55000-70000', '40000-50000', '70000-90000', '100000-117000',\n",
       "       '33000-39000', '6000-10000', '16000-18500', '135-165',\n",
       "       '16000-18000', '180000-240000', '25000-35000', '37500-42500',\n",
       "       '55000-65000', '18000-22000', '65000-75000', '300000-450000',\n",
       "       '65000-90000', '11000-25000', '20000-30000', '35000-50000',\n",
       "       '40000-45000', '25000-31000', '55-105', '18000-20000',\n",
       "       '35000-60000', '10000-30000', '0-30000', '21000-36000',\n",
       "       '80000-110000', '18000-25000', '40000-65000', '70000-105000',\n",
       "       '50000-65000', '70000-100000', '93600-122720', '80000-85000',\n",
       "       '85000-110000', '60000-90000', '4500-4500', '100000-110000',\n",
       "       '90000-120000', '36000-42000', '120000-150000', '0-268',\n",
       "       '26000-50000', '10000-100000', '50000-300000', '23000-28000',\n",
       "       '16500-17500', '35000-55000', '48000-58000', '20000-40000',\n",
       "       '60000-120000', '30000-35000', '60000-95000', '0-38000',\n",
       "       '75000-150000', '99000-99999', '15000-30000', '32000-40000',\n",
       "       '0-50000', '80-100', '30000-50000', '90000-130000', '22000-22000',\n",
       "       '35000-73000', '22000-24000', '70000-80000', '7500-8000',\n",
       "       '60000-130000', '90000-95000', '40000-40000', '12500-14000',\n",
       "       '100000-240000', '25000-40000', '1000-10000', '14000-15000',\n",
       "       '25000-36000', '15000-25000', '35000-40000', '55-125',\n",
       "       '13000-14000', '600000-750000', '1000-2000', '200000-300000',\n",
       "       '35000-45000', '140000-150000', '35000-35000', '21000-21000',\n",
       "       '27000-34280', '110-140', '60-150', '55000-80000', '35000-48000',\n",
       "       '50000-80000', '120000-15000000', '110000-120000', '48000-55000',\n",
       "       '220000-225000', '42000-62000', '6000-15000', '350000-500000',\n",
       "       '28000-32000', '4500-5000', '12000-18000', '80-110', '45000-65000',\n",
       "       '962-962', '60000-70000', '20000-20000', '10000-20000',\n",
       "       '65000-80000', '15600-15600', '40000-80000', '90000-150000',\n",
       "       '13-20', '60000-150000', '100000-120000', '95000-110000',\n",
       "       '18000-21000', '400000-600000', '29000-33000', '100000-180000',\n",
       "       '120000-180000', '100000-200000', '400000-650000', '11000-11000',\n",
       "       '75000-85000', '45000-55000', '10-Oct', '956-956', '24000-36000',\n",
       "       '100000-150000', '25-30', '21-63000', '1600-1700', '85000-150000',\n",
       "       '30000-45000', '70000-125000', '11-Nov', '15-19', '60000-100000',\n",
       "       '42000-80000', '200000-600000', '6266624-8582080', '10800-10800',\n",
       "       '41000-45000', '90000-140000', '1050-1050', '20000-27000',\n",
       "       '2000-4000', '70000-120000', '144000-192000', '120000-168000',\n",
       "       '100000-130000', '20000-25000', '10000-22000', '48000-60000',\n",
       "       '1000-20000', '30000-30000', '150000-200000', '500000-650000',\n",
       "       '40-50', '42000-60000', '3000-7000', '22000-30000', '16000-20000',\n",
       "       '65000-100000', '30-40', '80000-130000', '19000-36000',\n",
       "       '200000-250000', '45-75', '1050-1100', '80000-150000',\n",
       "       '70000-160000', '25000-27000', '39000-42000', '85000-90000',\n",
       "       '250000-300000', '175000-250000', '80000-90000', '24000-30000',\n",
       "       '15750-15750', '750-750', '60000-80000', '14400-24000',\n",
       "       '107000-115000', '24-25', '55386-66731', '19800-20800',\n",
       "       '71000-72000', '39000-41000', '20000-35000', '50000-100000',\n",
       "       '17000-19000', '50-100', '35000-120000', '80000-120000',\n",
       "       '28000-35000', '24000-28000', '45-80', '30000-33000',\n",
       "       '15000-20000', '9600-18000', '45-85', '34000-38000', '0-32000',\n",
       "       '100000-160000', '65000-70000', '90000-100000', '0-180000',\n",
       "       '15500-16500', '29000-32000', '30-50', '22000-28000',\n",
       "       '36000-200000', '100000-250000', '22000-26000', '20000-60000',\n",
       "       '4-Apr', '20000-100000', '45-65', '90-120', '40000-100000',\n",
       "       '14000-14000', '35-45', '20000-26000', '18000-18000', '90-110',\n",
       "       '45000-60000', '30000-34000', '75000-100000', '0-90000',\n",
       "       '300000-420000', '45000-80000', '115000-125000', '190000-220000',\n",
       "       '8-Sep', '20000-24000', '0-1200000', '2-Jun', '70000-95000',\n",
       "       '0-70000', '25000-50000', '18500-28000', '72000-144000',\n",
       "       '18500-25000', '40000-46000', '14000-17000', '85000-100000',\n",
       "       '9000-17000', '20800-22880', '10000-250000', '42000-48000',\n",
       "       '55000-60000', '32000-36000', '16500-18500', '50000-90000',\n",
       "       '9000-10000', '95000-115000', '36000-48000', '35-40',\n",
       "       '65000-85000', '360000-600000', '28000-28000', '23000-26000',\n",
       "       '30000-32000', '50-65', '0-45000', '36000-63000', '0-130000',\n",
       "       '15500-17500', '300000-400000', '21-31', '48000-65000',\n",
       "       '45000-90000', '13000-18000', '16000-24000', '80000-89000',\n",
       "       '55000-68000', '85000-120000', '80000-119000', '166400-260000',\n",
       "       '45000-175000', '32000-45000', '400000-450000', '300000-600000',\n",
       "       '50-53', '17500-17500', '8000-13000', '2000-5000', '96000-120000',\n",
       "       '42000-46000', '130000-180000', '75-100', '30000-65000',\n",
       "       '5000-6000', 'Oct-15', '75000-90000', '0-1000', '15000-18000',\n",
       "       '40000-55000', '18000-30000', '100-120', '34000-42000',\n",
       "       '130000-170000', '75000-120000', '800000-1200000', '175000-275000',\n",
       "       '96000-240000', '70000-200000', '120000-160000', '18000-26000',\n",
       "       '60-90', '18000-19000', '70-90', '10-Nov', '175-225',\n",
       "       '15500-50000', '24000-35000', '32000-46000', '22000-25000',\n",
       "       '30000-48000', '24000-26000', '72000-108000', '27000-32000',\n",
       "       '140000-160000', '96000-100000', '25000-100000', '19500-24000',\n",
       "       '21600-31200', '35-100', '24000-32000', '1600-19000',\n",
       "       '55000-90000', '20-25', '115000-130000', '27500-36000',\n",
       "       '16000-19200', '120000-170000', '30000-38000', '4-Jun',\n",
       "       '38000-45000', '300000-500000', '70000-85000', '60000-73000',\n",
       "       '49000-58000', '2500-2800', '800000000-1200000000',\n",
       "       '196000-230000', '120000-135000', '21120-30000', '30-35',\n",
       "       '250000-500000', '1000-1000', '50-90', '33000-100000', '90-140000',\n",
       "       '1300000-1800000', '37000-40000', '110000-150000', '63000-63000',\n",
       "       '17000-20000', '12500-15000', '60000-65000', '60-65', '900-900',\n",
       "       '75000-110000', '40-100', '20000-50000', '120000-120000',\n",
       "       '10000-15000', '160000-180000', '2000-2000', '50000-120000',\n",
       "       '80000-80000', '1000-4000', '14000-30000', '2-Apr', '3000-60000',\n",
       "       '55-65', '15-25', '25000-45000', '48-60', '33000-63000',\n",
       "       '55000-85000', '30000-42000', '105-110', '500000-800000',\n",
       "       '60000-72000', '9000-12000', '83200-114400', '318278-400000',\n",
       "       '30000-36000', '85000-105000', '27-30', '14-15', '110000-135000',\n",
       "       '10716-16074', '50000-85000', '40-60', '70000-126000', '0-15000',\n",
       "       '28000-45000', '125-175', '70000-110000', '18000-23000',\n",
       "       '360000-400000', '26000-32000', '19000-19000', '50-60',\n",
       "       '600000-800000', '66000-84000', '32000-35000', '200000-280000',\n",
       "       '125000-135000', '90000-125000', '48000-57600', '50000-55000',\n",
       "       '55-67', '46000-55000', '180000-200000', '28000-40000',\n",
       "       '28000-30000', '60000-160000', '6000-20000', '1920-2000', '80-120',\n",
       "       '53000-67000', '0-60000', '30000-80000', '12000-19000',\n",
       "       '24000-29000', '45000-85000', 'Oct-20', '45-48', '45000-70000',\n",
       "       '95000-150000', '0-9360000', '8000-9000', '1000000-1500000',\n",
       "       '1000-3000', '540000-720000', '21000-25000', '35000-75000',\n",
       "       '0-100000', '600000-1200000', '36000-65000', '65000-125000',\n",
       "       '143520-197600', '33000-53000', '25-1000', '41000-50000',\n",
       "       '20000-28000', '32000-50000', '37000-41600', '16000-28000',\n",
       "       '480000-600000', '800000-2000000', '960000-1200000', '13000-15000',\n",
       "       '65-100', '70-100', '105000-125000', '22-61000', '18000-24000',\n",
       "       '335000-400000', '100000-300000', '110000-140000', '23000-96000',\n",
       "       '46000-62000', '150000-160000', '28000-42000', '1000-1400',\n",
       "       '10000-16000', '65000-120000', '15000-16000', '100000-170000',\n",
       "       '30000-49000', '0-115', '10000-12000', '45000-45000',\n",
       "       '300000-325000', '528000-636000', '16000-22000', '45-55',\n",
       "       '14000-25000', '130000-160000', '40000', '32000-37000',\n",
       "       '50000-50000', '130000-145000', '26000-28000', '35000-70000',\n",
       "       '145600-187200', '1161-1161', '17000-30000', '85000-95000',\n",
       "       '42000-58000', '1500000-2500000', '90-100', '30000-70000', '25-28',\n",
       "       '14000-16000', '1517-1517', '16000-25000', '15000-200000',\n",
       "       '200000-400000', '27000-28000', '37000-37000', '33000-34000',\n",
       "       '0-20000', '23000-32000', '0-25000', '26000-29000', '60000-85000',\n",
       "       '60-85', '92000-141000', '180000-600000', '550000-720000',\n",
       "       '10000-14000', '18000-44000', '45-67', '15400-19600',\n",
       "       '55000-79000', '3700-3800', '721000-780000', '40-55',\n",
       "       '38000-75000', '30000-100000', '17000-21000', '35000-95000',\n",
       "       '32000-42000', '12500-12500', '45000-72000', '80000-84000',\n",
       "       '12000-45000', '180000-216000', '3000-6000', '19200-33600',\n",
       "       '42000-42000', '0-43500', '20800-20800', '55000-100000',\n",
       "       '36000-60000', '250000-550000', '28000-38000', '50-110', '115-120',\n",
       "       '120000-240000', '2800-3500', '30000-450000', '23040-28800',\n",
       "       '78000-115000', '32-35', '17000-24000', '50000-72000', '17-20',\n",
       "       '26000-31000', '200000-240000', '22000-40000', '100000-600000',\n",
       "       '24960-27040', '110000-125000', '22000-60000', '50000-58000',\n",
       "       '30000-37500', '0-1', '50000-75000', '100000-400000',\n",
       "       '150000-16500000', '50-70', '44000-102000', '12000-17500',\n",
       "       '7-12000', '15000-75000', '13000-16000', '42000-54000',\n",
       "       '80000-140000', '22-28', '200000-500000', '42000-55000',\n",
       "       '200000-700000', '100-150', '30160-30160', '420000-540000',\n",
       "       '8000-14000', '18500-27000', '100000-115000', '60000-96000',\n",
       "       '3000-4000', '35000-42000', '95000-125000', '52000-78000',\n",
       "       '36000-54000', '2000-6000', '41600-50000', '16000-19000',\n",
       "       '23000-27000', '45-70', '37400-37400', '25000-65000',\n",
       "       '26000-52000', '3-Apr', '1200-1400', '14000-18000', '32000-34000'],\n",
       "      dtype=object)"
      ]
     },
     "execution_count": 45,
     "metadata": {},
     "output_type": "execute_result"
    }
   ],
   "source": [
    "train['Зарплата'].unique()"
   ]
  },
  {
   "cell_type": "code",
   "execution_count": 46,
   "metadata": {},
   "outputs": [],
   "source": [
    "train.loc[train.Зарплата=='10-Oct',\"Зарплата\"] = '999-999'\n",
    "train.loc[train.Зарплата=='11-Nov',\"Зарплата\"] = '999-999'\n",
    "train.loc[train.Зарплата=='4-Apr',\"Зарплата\"] = '999-999'\n",
    "train.loc[train.Зарплата=='2-Jun',\"Зарплата\"] = '999-999'\n",
    "train.loc[train.Зарплата=='Oct-15',\"Зарплата\"] = '999-999'\n",
    "train.loc[train.Зарплата=='4-Jun',\"Зарплата\"] = '999-999'\n",
    "train.loc[train.Зарплата=='2-Apr',\"Зарплата\"] = '999-999'\n",
    "train.loc[train.Зарплата=='Oct-20',\"Зарплата\"] = '999-999'\n",
    "train.loc[train.Зарплата=='3-Apr',\"Зарплата\"] = '999-999'\n",
    "train.loc[train.Зарплата=='8-Sep',\"Зарплата\"] = '999-999'\n",
    "train.loc[train.Зарплата=='10-Nov',\"Зарплата\"] = '999-999'"
   ]
  },
  {
   "cell_type": "code",
   "execution_count": 47,
   "metadata": {
    "collapsed": true,
    "jupyter": {
     "outputs_hidden": true
    }
   },
   "outputs": [
    {
     "data": {
      "text/plain": [
       "array([nan, '15750-15750', '115000-130000', '45000-80000', '55000-755000',\n",
       "       '65000-115000', '27000-32000', '90000-110000', '25000-45000',\n",
       "       '50000-95000', '9600-18000', '0-48000', '2000000-2263000',\n",
       "       '40000-60000', '180000-240000', '0-150000', '320000-350000',\n",
       "       '7000-9000', '55000-75000', '50-65', '60000-80000', '80000-95000',\n",
       "       '40000-45000', '96000-100000', '45000-67000', '0-110406',\n",
       "       '40000-50000', '30000-60000', '30000-50000', '100000-130000',\n",
       "       '16500-18500', '30000-40000', '33000-34000', '0-0', '60000-75000',\n",
       "       '40000-70000', '50000-120000', '20000-22000', '2500-5000',\n",
       "       '3000-6000', '65000-100000', '15000-30000', '9240-13200',\n",
       "       '1234-12345', '25000-30000', '1150-1150', '35000-45000',\n",
       "       '100000-150000', '65000-140000', '1200-3000', '35000-65000',\n",
       "       '100000-120000', '80000-200000', '10-Nov', '75000-100000',\n",
       "       '50000-85000', '45000-58000', '45-80', '10-Oct', '25000-35000',\n",
       "       '21-63000', '28000-28000', '60000-90000', '125-175', '60000-70000',\n",
       "       '13-15', '0-35000', '90000-100000', '65000-72000', '13000-14000',\n",
       "       '22000-22000', '45000-50000', '60000-100000', '70000-80000',\n",
       "       '60000-85000', '18000-20000', '29000-32000', '50000-80000',\n",
       "       '15000-20000', '12000-18000', '19000-24000', '80000-130000',\n",
       "       '600000-840000', '50000-65000', '120000-130000', '52000-57000',\n",
       "       '42000-62000', '1000-2000', '4500-4500', '750000-1200000',\n",
       "       '120000-140000', '30000-35000', '45000-70000', '0-34300',\n",
       "       '65000-77000', '33000-36000', '35000-50000', '40000-100000',\n",
       "       '70000-90000', '9000-12000', '140000-200000', '36000-42000',\n",
       "       '25000-40000', '124000-375000', '40000-55000', '16000-20000',\n",
       "       '2000-5000', '0-30000', '100-150', '100000-125000', '25000-28000',\n",
       "       '55000-69000', '50000-72000', '3000-100000', '55000-65000',\n",
       "       '150000-250000', '13-20', '20000-24000', '65000-70000',\n",
       "       '130000-160000', '45000-95000', '700000-1200000', '20000-21000',\n",
       "       '39000-100000', '110000-130000', '110000-125000', '14000-30000',\n",
       "       '35000-75000', '70-100', '15000-25000', '18000-21000',\n",
       "       '32000-45000', '30000-70000', '16000-18000', '65000-75000',\n",
       "       '60-75', '50000-75000', '29000-33000', '75000-95000',\n",
       "       '30000-1000000', '30000-34000', '30000-48000', '38000-65000',\n",
       "       '50000-90000', '85000-125000', '2000-2500', '17000-32000',\n",
       "       '65000-80000', '7200-1380000', '22000-28000', '55-72',\n",
       "       '70000-120000', '130000-150000', '0-1000', '50000-58000',\n",
       "       '9600-10500', '8000-14000', '192000-288000', '50000-60000',\n",
       "       '19000-19000', '52000-100000', '120000-240000', '1000-26000',\n",
       "       '35-60', '90000-120000', '80000-175000', '35000-100000',\n",
       "       '110000-140000', '500000000-800000000', '80000-120000',\n",
       "       '90000-95000', '28000-32000', '35000-55000', '45000-60000',\n",
       "       '4001-6000', '70-120', '15000-19000', '20000-30000', '35000-36000',\n",
       "       '30000-45000', '0-120000', '30000-37000', '50-70', '18000-30000',\n",
       "       '20800-22800', '50000-70000', '25000-27000', '20000-50000',\n",
       "       '33000-100000', '60-70', '22000-25000', '45000-65000',\n",
       "       '25000-32000', '93600-114400', '34000-50000', '52000-78000',\n",
       "       '2000-3000', '32000-52000', '15-17', '240000-500000', '750-750',\n",
       "       '0-90000', '208000-270400', '75000-120000', '28000-34000',\n",
       "       '75000-110000', '40000-90000', '120000-264000', '14000-22400',\n",
       "       '35000-40000', '20-25', '100000-110000', '70000-300000',\n",
       "       '10000-30000', '9600-14400', '15000-16000', '45000-75000',\n",
       "       '20-3075', '95000-115000', '17000-22000', '41000-45000',\n",
       "       '77000-97000', '50-95', '20000-25000', '75-115', '10000-25000',\n",
       "       '14000-18000', '28000-35000', '25000-50000', '400000-500000',\n",
       "       '38000-52000', '70000-85000', 'Oct-20', '100000-117000',\n",
       "       '140000-150000', '17-19', '0-95000', '45000-45000',\n",
       "       '104000-120000', '300000-600000', '80000-110000', '50000-55000',\n",
       "       '40000-140000', '95000-105000', '33000-37000', '20000-23000',\n",
       "       '75000-85000', '22000-30000', '32000-40000', '55000-100000',\n",
       "       '70000-125000', '450-500', '143520-197600', '24000-26000',\n",
       "       '21000-35000', '35-40', '60000-65000', '80000-100000',\n",
       "       '31181-37566', '0-65000', '17500-17500', '11-Dec', '55-65',\n",
       "       '20000-35000', '18720-19760', '16000-18500', '10000-15000',\n",
       "       '8000-10000', '44000-57000', '300000-330000', '18000-18000',\n",
       "       '0-24000', '200-230', '60-80', '78000-80000', '40000-75000',\n",
       "       '140-160', '45000-96000', '50000-100000', '40000-120000',\n",
       "       '55000-60000', '25-35', '50000-50000', '120-160', '900-1000',\n",
       "       '36000-40000', '30000-40700', '1000-1000', '17000-21000',\n",
       "       '26000-32000', '40000-80000', '35000-35000', '40000-65000',\n",
       "       '17-20', '67000-70000', '44624-53764', '28000-30000',\n",
       "       '45000-55000', '50-60', '23000-25000', '65-75', '18000-19000',\n",
       "       '12000-15000', '21120-30000', '14436-28000', '38000-48000',\n",
       "       '960000-1200000', '76800-96000', '300000-500000', '26000-28000',\n",
       "       'Dec-25', '0-16000', '70000-100000', '8000-13000', '80-100',\n",
       "       '90000-140000', '65000-110000', '0-12500', '90000-130000', '70-90',\n",
       "       '2000000-15000000', '84000-102000', '200000-600000', '27000-30000',\n",
       "       '90000-115000', '21600-31200', '12000-12000', '130000-145000',\n",
       "       '50000-150000', '30000-31000', '65000-85000', '18000-25000',\n",
       "       '25000-25000', '6000000-7000000', '240000-240000', '20000-36000',\n",
       "       '200000-250000', '200000-240000', '2000-40000', '55-105',\n",
       "       '90000-125000', '1000-6000', '32500-37500', '17000-35000',\n",
       "       '34000-35000', '850-1000', '0-50000', '250000-500000', '55-125',\n",
       "       '16000-16000', '12000-17000', '400000-650000', '900000-1200000',\n",
       "       '1300-1500', '12000-24000', '100-200', '18000-22000',\n",
       "       '96000-144000', '42000-42000', '100000-200000', '36000-50000',\n",
       "       '55000-70000', '22000-24000', '34000-45000', '15-19',\n",
       "       '80000-90000', '90000-150000', '77000-87000', '200-250',\n",
       "       '24900-31200', '20000-28000', '34000-44000', '60-150', '90-150',\n",
       "       '25000-42000', '18000-26000', '14560-17680', '23000-30000',\n",
       "       '35000-150000', '70000-130000', '21000-21000', 'Jun-18',\n",
       "       '8000-20000', '9-Dec', '10000-120000', '43000-69000', '1000-1100',\n",
       "       '4000-5000', '1000-5000', '23000-26000', '30000-39000', '0-92000',\n",
       "       '11000-11000', '10000-18000', '85000-150000', '120000-150000',\n",
       "       '29000-40000', '45-67', '120000-300000', '1100-1200',\n",
       "       '125000-135000', '135-165', '18-22', '60000-120000',\n",
       "       '115000-160000', '16-20', '0-2000', '20000-27000',\n",
       "       '3000000-4000000', '24000-27600', '240000-480000', '42000-60000',\n",
       "       '35-45', '23000-28000', '45000-120000', '24000-32000',\n",
       "       '45000-63000', '1600-1600', '85-140', '19000-26000', '28000-42000',\n",
       "       '41600-62400', '24000-28000', '125000-150000', '80000-80000',\n",
       "       '35000-60000', '85000-95000', '32000-37440', '9600-57600',\n",
       "       '25000-75000', '41600-52000', '29120-37440', '120000-165000',\n",
       "       '24000-36000', '40000-47000', '18720-18720', '42000-80000',\n",
       "       '23000-32000', '600000-1000000', '14500-19000', '40000-54000',\n",
       "       '5500-5500', '37000-40000', '0-25000', '115000-125000', '40-80',\n",
       "       '27000-29000', '91000-150000', '40000-40000', '48000-55000',\n",
       "       '70000-110000', '168000-216000', '360000-500000', '80000-250000',\n",
       "       '14000-40000', '33280-37440', '10000-100000', '72000-144000',\n",
       "       '40-100', '20000-40000', '15000-18000', '55000-68000', '2000-4000',\n",
       "       '15000-17000', '26400-36000', '80000-140000', '23000-24000',\n",
       "       '30-50', '1000000-1400000', '55386-66731', '2500-3500',\n",
       "       '48000-58000', '150-175', '40-50', '20-22', '5000-10000',\n",
       "       '110-120', '40000-85000', '240000-300000', '10000-10000',\n",
       "       '40000-41000', '156000-187200', '10000-20000', '2500-2500'],\n",
       "      dtype=object)"
      ]
     },
     "execution_count": 47,
     "metadata": {},
     "output_type": "execute_result"
    }
   ],
   "source": [
    "test['Зарплата'].unique()"
   ]
  },
  {
   "cell_type": "code",
   "execution_count": 48,
   "metadata": {},
   "outputs": [],
   "source": [
    "test.loc[test.Зарплата=='10-Oct',\"Зарплата\"] = '999-999'\n",
    "test.loc[test.Зарплата=='Jun-18',\"Зарплата\"] = '999-999'\n",
    "test.loc[test.Зарплата=='9-Dec',\"Зарплата\"] = '999-999'\n",
    "test.loc[test.Зарплата=='11-Dec',\"Зарплата\"] = '999-999'\n",
    "test.loc[test.Зарплата=='Oct-20',\"Зарплата\"] = '999-999'\n",
    "test.loc[test.Зарплата=='10-Nov',\"Зарплата\"] = '999-999'\n",
    "test.loc[test.Зарплата=='Dec-25',\"Зарплата\"] = '999-999'"
   ]
  },
  {
   "cell_type": "code",
   "execution_count": 49,
   "metadata": {},
   "outputs": [],
   "source": [
    "train['Зарплата'].fillna('999-999', inplace=True)\n",
    "test['Зарплата'].fillna('999-999', inplace=True)"
   ]
  },
  {
   "cell_type": "code",
   "execution_count": 50,
   "metadata": {},
   "outputs": [],
   "source": [
    "train['Зарплата_new'] = train['Зарплата'].str.split(\"-\")  \n",
    "test['Зарплата_new'] = test['Зарплата'].str.split(\"-\")  "
   ]
  },
  {
   "cell_type": "code",
   "execution_count": 51,
   "metadata": {},
   "outputs": [],
   "source": [
    "def get_element(my_list):\n",
    "    my_list = [float(i) for i in my_list]\n",
    "    return sum(my_list) / len(my_list)"
   ]
  },
  {
   "cell_type": "code",
   "execution_count": 52,
   "metadata": {},
   "outputs": [],
   "source": [
    "train['Зарплата']=train['Зарплата_new'].apply(get_element)\n",
    "test['Зарплата']=test['Зарплата_new'].apply(get_element)"
   ]
  },
  {
   "cell_type": "code",
   "execution_count": 53,
   "metadata": {},
   "outputs": [],
   "source": [
    "train.drop('Зарплата_new', axis=1, inplace=True)\n",
    "test.drop('Зарплата_new', axis=1, inplace=True)"
   ]
  },
  {
   "cell_type": "code",
   "execution_count": 54,
   "metadata": {},
   "outputs": [
    {
     "data": {
      "text/plain": [
       "Id                      0\n",
       "Название                0\n",
       "Отдел                6970\n",
       "Зарплата                0\n",
       "Описание_компании    2046\n",
       "Описание_вакансии       0\n",
       "Требования           1631\n",
       "Соцпакет             4331\n",
       "Дистанционно            0\n",
       "Вопросы                 0\n",
       "Тип_занятости        2142\n",
       "Опыт                 4250\n",
       "Образование          4892\n",
       "Индустрия            2953\n",
       "Позиция              3875\n",
       "Фейк                    0\n",
       "Страна                  0\n",
       "Штат                    0\n",
       "Город                   0\n",
       "dtype: int64"
      ]
     },
     "execution_count": 54,
     "metadata": {},
     "output_type": "execute_result"
    }
   ],
   "source": [
    "train.isnull().sum()"
   ]
  },
  {
   "cell_type": "code",
   "execution_count": 55,
   "metadata": {},
   "outputs": [
    {
     "data": {
      "text/plain": [
       "Id                      0\n",
       "Название                0\n",
       "Отдел                4577\n",
       "Зарплата                0\n",
       "Описание_компании    1262\n",
       "Описание_вакансии       1\n",
       "Требования           1064\n",
       "Соцпакет             2879\n",
       "Дистанционно            0\n",
       "Вопросы                 0\n",
       "Тип_занятости        1329\n",
       "Опыт                 2800\n",
       "Образование          3213\n",
       "Индустрия            1950\n",
       "Позиция              2580\n",
       "Страна                  0\n",
       "Штат                    0\n",
       "Город                   0\n",
       "dtype: int64"
      ]
     },
     "execution_count": 55,
     "metadata": {},
     "output_type": "execute_result"
    }
   ],
   "source": [
    "test.isnull().sum()"
   ]
  },
  {
   "cell_type": "code",
   "execution_count": 56,
   "metadata": {},
   "outputs": [],
   "source": [
    "train[\"Отдел\"] = train['Отдел'].fillna(train['Отдел'].value_counts().index[0])\n",
    "test[\"Отдел\"] = test['Отдел'].fillna(test['Отдел'].value_counts().index[0])"
   ]
  },
  {
   "cell_type": "code",
   "execution_count": 57,
   "metadata": {},
   "outputs": [
    {
     "data": {
      "text/html": [
       "<div>\n",
       "<style scoped>\n",
       "    .dataframe tbody tr th:only-of-type {\n",
       "        vertical-align: middle;\n",
       "    }\n",
       "\n",
       "    .dataframe tbody tr th {\n",
       "        vertical-align: top;\n",
       "    }\n",
       "\n",
       "    .dataframe thead th {\n",
       "        text-align: right;\n",
       "    }\n",
       "</style>\n",
       "<table border=\"1\" class=\"dataframe\">\n",
       "  <thead>\n",
       "    <tr style=\"text-align: right;\">\n",
       "      <th></th>\n",
       "      <th>Id</th>\n",
       "      <th>Название</th>\n",
       "      <th>Отдел</th>\n",
       "      <th>Зарплата</th>\n",
       "      <th>Описание_компании</th>\n",
       "      <th>Описание_вакансии</th>\n",
       "      <th>Требования</th>\n",
       "      <th>Соцпакет</th>\n",
       "      <th>Дистанционно</th>\n",
       "      <th>Вопросы</th>\n",
       "      <th>Тип_занятости</th>\n",
       "      <th>Опыт</th>\n",
       "      <th>Образование</th>\n",
       "      <th>Индустрия</th>\n",
       "      <th>Позиция</th>\n",
       "      <th>Фейк</th>\n",
       "      <th>Страна</th>\n",
       "      <th>Штат</th>\n",
       "      <th>Город</th>\n",
       "    </tr>\n",
       "  </thead>\n",
       "  <tbody>\n",
       "    <tr>\n",
       "      <th>0</th>\n",
       "      <td>10497</td>\n",
       "      <td>Reporter, Agri Investor</td>\n",
       "      <td>KHR</td>\n",
       "      <td>999.0</td>\n",
       "      <td>PEI Media (#URL_4cffe430b8da4c0d7e6074d11e638d...</td>\n",
       "      <td>Seeking savvy business reporter Are you a news...</td>\n",
       "      <td>The successful candidate should have a bachelo...</td>\n",
       "      <td>PEI Media (#URL_4cffe430b8da4c0d7e6074d11e638d...</td>\n",
       "      <td>0</td>\n",
       "      <td>0</td>\n",
       "      <td>Full-time</td>\n",
       "      <td>Associate</td>\n",
       "      <td>Bachelor's Degree</td>\n",
       "      <td>Publishing</td>\n",
       "      <td>Writing/Editing</td>\n",
       "      <td>0</td>\n",
       "      <td>US</td>\n",
       "      <td>None</td>\n",
       "      <td>None</td>\n",
       "    </tr>\n",
       "    <tr>\n",
       "      <th>1</th>\n",
       "      <td>8219</td>\n",
       "      <td>Software Engineer</td>\n",
       "      <td>Software Engineering</td>\n",
       "      <td>999.0</td>\n",
       "      <td>Roka Security is a boutique security firm that...</td>\n",
       "      <td>Roka Security is looking for Software Engineer...</td>\n",
       "      <td>NaN</td>\n",
       "      <td>NaN</td>\n",
       "      <td>0</td>\n",
       "      <td>0</td>\n",
       "      <td>Full-time</td>\n",
       "      <td>Not Applicable</td>\n",
       "      <td>Unspecified</td>\n",
       "      <td>Computer Software</td>\n",
       "      <td>Engineering</td>\n",
       "      <td>0</td>\n",
       "      <td>US</td>\n",
       "      <td>VA</td>\n",
       "      <td>Herndon</td>\n",
       "    </tr>\n",
       "    <tr>\n",
       "      <th>2</th>\n",
       "      <td>5342</td>\n",
       "      <td>Structural Engineer</td>\n",
       "      <td>onshore</td>\n",
       "      <td>999.0</td>\n",
       "      <td>NaN</td>\n",
       "      <td>Job tasks:Analyse project specifications on st...</td>\n",
       "      <td>Job requirements:HTS/TU Civil Engineering or M...</td>\n",
       "      <td>NaN</td>\n",
       "      <td>0</td>\n",
       "      <td>1</td>\n",
       "      <td>NaN</td>\n",
       "      <td>NaN</td>\n",
       "      <td>NaN</td>\n",
       "      <td>NaN</td>\n",
       "      <td>NaN</td>\n",
       "      <td>0</td>\n",
       "      <td>NL</td>\n",
       "      <td>ZH</td>\n",
       "      <td>Rotterdam</td>\n",
       "    </tr>\n",
       "    <tr>\n",
       "      <th>3</th>\n",
       "      <td>1916</td>\n",
       "      <td>Senior Publishing Specialist</td>\n",
       "      <td>Sales</td>\n",
       "      <td>999.0</td>\n",
       "      <td>NaN</td>\n",
       "      <td>The Senior Publishing Specialist will be part ...</td>\n",
       "      <td>Minimum of 3 – 4 years experience in Regulator...</td>\n",
       "      <td>NaN</td>\n",
       "      <td>0</td>\n",
       "      <td>0</td>\n",
       "      <td>NaN</td>\n",
       "      <td>NaN</td>\n",
       "      <td>NaN</td>\n",
       "      <td>NaN</td>\n",
       "      <td>NaN</td>\n",
       "      <td>0</td>\n",
       "      <td>US</td>\n",
       "      <td>None</td>\n",
       "      <td>None</td>\n",
       "    </tr>\n",
       "    <tr>\n",
       "      <th>4</th>\n",
       "      <td>1811</td>\n",
       "      <td>Sales Representative</td>\n",
       "      <td>Sales &amp; Marketing</td>\n",
       "      <td>999.0</td>\n",
       "      <td>NaN</td>\n",
       "      <td>BCCC Enterprises provides management consultin...</td>\n",
       "      <td>Key Responsibilities:Contribute to the financi...</td>\n",
       "      <td>How to ApplyThis is an exciting opportunity. ...</td>\n",
       "      <td>0</td>\n",
       "      <td>1</td>\n",
       "      <td>NaN</td>\n",
       "      <td>NaN</td>\n",
       "      <td>NaN</td>\n",
       "      <td>NaN</td>\n",
       "      <td>NaN</td>\n",
       "      <td>0</td>\n",
       "      <td>CA</td>\n",
       "      <td>BC</td>\n",
       "      <td>Vancouver</td>\n",
       "    </tr>\n",
       "  </tbody>\n",
       "</table>\n",
       "</div>"
      ],
      "text/plain": [
       "      Id                       Название                 Отдел  Зарплата  \\\n",
       "0  10497        Reporter, Agri Investor                   KHR     999.0   \n",
       "1   8219              Software Engineer  Software Engineering     999.0   \n",
       "2   5342            Structural Engineer               onshore     999.0   \n",
       "3   1916  Senior Publishing Specialist                  Sales     999.0   \n",
       "4   1811          Sales Representative      Sales & Marketing     999.0   \n",
       "\n",
       "                                   Описание_компании  \\\n",
       "0  PEI Media (#URL_4cffe430b8da4c0d7e6074d11e638d...   \n",
       "1  Roka Security is a boutique security firm that...   \n",
       "2                                                NaN   \n",
       "3                                                NaN   \n",
       "4                                                NaN   \n",
       "\n",
       "                                   Описание_вакансии  \\\n",
       "0  Seeking savvy business reporter Are you a news...   \n",
       "1  Roka Security is looking for Software Engineer...   \n",
       "2  Job tasks:Analyse project specifications on st...   \n",
       "3  The Senior Publishing Specialist will be part ...   \n",
       "4  BCCC Enterprises provides management consultin...   \n",
       "\n",
       "                                          Требования  \\\n",
       "0  The successful candidate should have a bachelo...   \n",
       "1                                                NaN   \n",
       "2  Job requirements:HTS/TU Civil Engineering or M...   \n",
       "3  Minimum of 3 – 4 years experience in Regulator...   \n",
       "4  Key Responsibilities:Contribute to the financi...   \n",
       "\n",
       "                                            Соцпакет  Дистанционно  Вопросы  \\\n",
       "0  PEI Media (#URL_4cffe430b8da4c0d7e6074d11e638d...             0        0   \n",
       "1                                                NaN             0        0   \n",
       "2                                                NaN             0        1   \n",
       "3                                                NaN             0        0   \n",
       "4   How to ApplyThis is an exciting opportunity. ...             0        1   \n",
       "\n",
       "  Тип_занятости            Опыт        Образование          Индустрия  \\\n",
       "0     Full-time       Associate  Bachelor's Degree         Publishing   \n",
       "1     Full-time  Not Applicable        Unspecified  Computer Software   \n",
       "2           NaN             NaN                NaN                NaN   \n",
       "3           NaN             NaN                NaN                NaN   \n",
       "4           NaN             NaN                NaN                NaN   \n",
       "\n",
       "           Позиция  Фейк Страна  Штат      Город  \n",
       "0  Writing/Editing     0     US  None       None  \n",
       "1      Engineering     0     US    VA    Herndon  \n",
       "2              NaN     0     NL    ZH  Rotterdam  \n",
       "3              NaN     0     US  None       None  \n",
       "4              NaN     0     CA    BC  Vancouver  "
      ]
     },
     "execution_count": 57,
     "metadata": {},
     "output_type": "execute_result"
    }
   ],
   "source": [
    "train.head()"
   ]
  },
  {
   "cell_type": "code",
   "execution_count": 58,
   "metadata": {
    "collapsed": true,
    "jupyter": {
     "outputs_hidden": true
    }
   },
   "outputs": [
    {
     "data": {
      "text/plain": [
       "array(['KHR', 'Software Engineering', 'onshore', 'Sales',\n",
       "       'Sales & Marketing', 'Information Technology',\n",
       "       'Performance Marketing', 'Operations', 'CS', 'videographer',\n",
       "       'MainSup', 'Finance', 'Digital', 'SEO', 'QA', 'Maintenance',\n",
       "       'App Dev', 'Oil & Energy', 'Squiz ', 'Administrative',\n",
       "       'Engineering', 'tech', 'Design', 'Commercial', 'Client Services',\n",
       "       'IT', 'Graphics & Video Editing', 'Clerical', '1221', 'Accounting',\n",
       "       'Marketing', 'Promotion Marketing', 'Product Development',\n",
       "       'Marketing ', 'Health Services', 'Reservations',\n",
       "       'Energy Conservation', 'Development', 'CSD Relay', 'Engineering ',\n",
       "       'Medicine', 'Customer Service', 'DTVMA', 'Financial',\n",
       "       'Business Development', 'Creative', 'Administration',\n",
       "       'Marketing team', 'Hampton Inn University Area', 'Technical',\n",
       "       'Digital and Brand Practice', 'Technical Direction', 'General',\n",
       "       'General Services', 'Mobile', 'Transportation', 'IT Services',\n",
       "       'Logistics', 'Storefronts', 'Buying', 'Telephone Interpreters',\n",
       "       'warehouse', 'Technology', 'Content team', 'HR',\n",
       "       'Graphics/Production', 'Open', 'SALES', 'Biz Dev',\n",
       "       'Technical Support', 'Huffington Post Greece', 'Product',\n",
       "       'Developing', 'Legal Services', 'Front End Development',\n",
       "       'Game Design and Development', 'NL Managed Services',\n",
       "       'Oil & Energy ', 'Product Management', 'Tours & Activities',\n",
       "       'Management', 'Quality Assurance ', 'FP', 'Engg.',\n",
       "       'Art and Design', 'Sales Team', 'TriNet Cloud', 'West Auckland',\n",
       "       'Global Services & Operations', 'Sales ', 'Sales and Marketing ',\n",
       "       'Client Services & Business Strategy ', 'Prod',\n",
       "       'Fashion:Internships', 'Admin - Clerical', 'Education',\n",
       "       'Field Eng', 'Sales Engineering', 'Marketing & Communications',\n",
       "       'Project Management', 'Customer Experience', 'Streaming Media',\n",
       "       'Ultrasound', 'Tech', 'A Techstars Company', 'Account Management',\n",
       "       'Campaign Management', 'Communications', 'Starbeck ',\n",
       "       'Office of the Lead Business Analyst', 'UV', 'incrediblue',\n",
       "       'Department', 'Systems Engineering', 'Editorial',\n",
       "       'Search, Performance & Social', 'Academic', 'CALL CENTER',\n",
       "       'Sales Operations', 'Core', 'Civil Construction', 'Medical coding',\n",
       "       'Human Resources', 'Careers Sales', 'ClearNDA', 'Photography',\n",
       "       'AFSDT', 'Sales and Business Development', 'Didactics',\n",
       "       'Technology/IT', 'Fulfillment ', 'Creative Services', 'Strategy',\n",
       "       'AGENCY CONFIDENTIAL', 'Application Development',\n",
       "       'Real Estate Lending', 'Health and Social ',\n",
       "       'Engineering Pakistan', 'Expert Services', 'Telecommunications',\n",
       "       'Online Marketing', 'Funnelback', 'Client Consulting Services',\n",
       "       'hr', 'Mortgage Servicing', 'CloudSpotter Technologies',\n",
       "       'Wunderfood', 'AMHS', 'Oil and Gas', 'CUSTOMER X TEAM',\n",
       "       'App Development', 'Admin', 'CR', 'Advisory Department',\n",
       "       'body Piercing ', 'Organisational Development', 'Animation',\n",
       "       'Marketing / Customer Service', 'CRM & BI', 'Social Media',\n",
       "       'Production', 'SALES DPT', 'International Growth', 'Receiving',\n",
       "       'Kahoots', 'ADS', 'Client Care', 'Systems Operations', 'Service',\n",
       "       'Marketing & Sales', 'Financial Services', 'Ancillery Revenue',\n",
       "       'IT Department', 'CSR CENTER', 'Care', 'Biotech ', 'Services',\n",
       "       'Product development', 'Rippleshot', 'Connectivity', 'Growth',\n",
       "       'MAINT', 'Business:Sales', 'New York', '1411', 'Core ', 'Medical',\n",
       "       'Content', 'Squiz Digital', 'Design & Marketing', 'Tradable Labs',\n",
       "       'HOTEL JOBS', 'Programming', 'Strategic Initiatives',\n",
       "       'Business:Marketing', 'Internal', 'Care Staff', 'Art Studio',\n",
       "       'Client Operations', 'Business Intelligence', 'Provisions',\n",
       "       'Board of Directors', 'Command Central', 'Interpreting Operations',\n",
       "       'Mobile Applications Development', 'Advisory', 'Customer Support',\n",
       "       'Mobility Domian', 'Retail', 'Inbound Operations',\n",
       "       'Finance/Securities', 'Small Business Consulting',\n",
       "       \"Children's Nature Institute\", 'Shipping Dock',\n",
       "       'Product Marketing', 'Software Development', 'Financial Dept',\n",
       "       'Krrb', 'National', 'Permanent', 'admin', 'administration',\n",
       "       'People & Culture', \"Plato's Closet Pleasanton\",\n",
       "       'BigTime Software', 'Lex', 'commercial vehicles', 'IS/IT', 'AFS14',\n",
       "       'Strategy & Analytics', 'IS', 'Dietary',\n",
       "       'Product Development Team', 'Sales and Marketing', 'Unknown', ' ',\n",
       "       'Marketing & Design', 'DEV', 'ENGINEERING', 'Accounting & Finance',\n",
       "       'Corporate', 'User Experience', 'Processing', 'Marketing, Sales',\n",
       "       'Advertising', 'Android', 'Customer and Compliance',\n",
       "       'Client Management Office', 'Holiday Inn & Suites',\n",
       "       'UI Production', 'Administration support', 'Pediatric',\n",
       "       'Blippbuilder', 'Installers', 'Editorial ', 'Music',\n",
       "       'Interpreters', 'Judge', 'CALLCENTER', 'Internal Audit',\n",
       "       'Transport', 'sales', 'Data Entry', 'Customer Support Team', 'All',\n",
       "       'Success', 'Media', 'Designer', 'E', 'President',\n",
       "       'Engineering, Pipeline Design', 'Technical Department', 'Dry Dock',\n",
       "       'Business', 'Lab', 'Development ', 'Support', 'Development Dpt',\n",
       "       'Merchant ', 'Food Service', 'Esri',\n",
       "       'Information and Communications Technology', 'Field Operations',\n",
       "       'APP MEDIA', 'R&D', 'Finance ', 'Information Technology ', 'H3rt',\n",
       "       'Infrastructure', 'Student Beans', 'Merchandising ',\n",
       "       'App Delivery', 'Legal', 'AdYapper', 'Infrastructure & Operations',\n",
       "       'Packaging', 'MM', 'Administrative Office', 'Client', 'Audiology',\n",
       "       'Nursing', 'Technical Services', 'AFS13', 'Birdback', 'Estimating',\n",
       "       'Platform', 'Procurement', 'Warehouse', 'Recruiter Network',\n",
       "       'Operations (Residential)', 'Law Enforcement', 'Sales - DE',\n",
       "       'UI/Ux Design', 'ITS', 'Business Operations', 'Account Handling',\n",
       "       'parts', 'Schools/Charters', 'Materials', 'Product ', 'Grooming',\n",
       "       'Data Systems', 'PMO', 'Non-Tech', 'Leadership', 'Training ',\n",
       "       'AFS12', 'Professional Services', 'Product Content', 'S&M',\n",
       "       'Training', 'Central Services', 'Entry Level Food Service',\n",
       "       'Customer Care', 'TH02', 'Flight Operations', 'Social Media ',\n",
       "       'LIVERPOOL ', 'Consulting', 'AR', 'Property Management', 'English',\n",
       "       'Agency Systems', 'Bindery', 'Landlord ', 'IP Secuirty',\n",
       "       'IT Sales', 'Call Center', 'Moni Technologies', 'Hardware',\n",
       "       'African Program', 'Sales/Marketing', 'Marekting',\n",
       "       'Infrastructure Support Services', 'StartupTAP',\n",
       "       'Engineering - Hardware', 'Product Team',\n",
       "       'Human Resources & Recruiting', 'StageBloc', 'FOH',\n",
       "       'New York City or Paris, France', 'EC', '.net Development',\n",
       "       'Web Team', 'Accounting / Finance', 'Web Solutions',\n",
       "       'Commercial/Marketing', 'Research',\n",
       "       'Aerospace and Defense Engineering Services', 'IR',\n",
       "       'Internships / Special Projects / Part-Time Opportunities', 'SA',\n",
       "       'Refined Resources', 'Healthcare Department', 'Head Office',\n",
       "       'Customer Advocacy', 'Student Beans Mag', 'Anti-Virus Software',\n",
       "       'Analytics', 'Information technology', 'non-tech',\n",
       "       'Product & Design', 'Customer Success', 'Moni technologies',\n",
       "       'Kitchen', 'Grocery Stores', 'Display', 'Corporate Administration',\n",
       "       'Product & Innovation', 'Physical Therapy', 'Tech ',\n",
       "       'Voyageur Medical Transportation', 'Client Service', 'Internships',\n",
       "       'PPC', 'Provisions by Food52', 'HLT', 'Contact Centre',\n",
       "       'Digital Pathology', 'Facility', 'Tecnologia', 'Community ',\n",
       "       'MAIL UNIT 65036', 'Leasing', 'Design Team',\n",
       "       'Promotion & Advertising', 'biotech', 'Supply Vision',\n",
       "       'New Business Sales', 'Media Buying', 'SPOKE', 'Controls Engineer',\n",
       "       'OptionsAway', 'CASH', 'Inbound Sales', 'Orlando ', 'NOC',\n",
       "       'Langley', 'Animal Control', 'Parts', 'Seldon',\n",
       "       'User Experience & Design', 'Mortgages', 'Nursing Staff', 'iOS',\n",
       "       'TRS-Clinical', 'ST', 'Catering', 'Web Development',\n",
       "       'Digital Department', 'Design & Interface', 'customer service',\n",
       "       'RD', 'Orlando', 'Art', 'Startup Institute Boston', 'Capoo',\n",
       "       'Facilities / Maintenance', 'Software development', 'Events',\n",
       "       'Campaigns', 'Management Division', 'BDC', 'Aker Solutions Inc.',\n",
       "       'OPERATIONS', 'Broadcasting', 'Business:People',\n",
       "       'Servicing-Default', 'Technology Innovation', 'Core Team', 'G&A',\n",
       "       'Engagement', 'Sports Travel', 'Inflight', 'Customer Services',\n",
       "       'Sales - USA', 'Branch Services',\n",
       "       'School Bussing - London & Region', 'IT Support', 'Relay',\n",
       "       'SECURITY', 'RTB', 'Professional Association', 'Digital Life',\n",
       "       'B2B', 'Operations & Finance', 'DTVCC', 'Lower Level Management',\n",
       "       'SHS', 'Health Policy', 'IW', 'Managed Services', 'MKT',\n",
       "       'Freelancer', 'GCS', 'Secretary / Support', 'HEADQUATERS',\n",
       "       'Commercial Management / Contract Management',\n",
       "       'Marketing Department', 'Accounting/Payroll', 'ALM Practice',\n",
       "       'AFS16', 'FP-b2b', 'Apps', 'Recruiting', 'AFSCC', 'Software / IT',\n",
       "       'Business Development/Sales', 'Banking', 'SOC',\n",
       "       'Recon GL Accounting', 'Tech - Network', 'User Research',\n",
       "       'Appear Here', 'Engineering Services', 'OT', 'Content Production',\n",
       "       'Public Relations', 'Wilton EMS', 'DiMella | Vineburgh Team', 'DA',\n",
       "       'Recruiter', 'Sales department', 'Information Technology Group',\n",
       "       'PSG', 'Solution Test', 'DHS-ICE-IDRS', 'Marketplace',\n",
       "       'Product team', 'Analytics & UX', 'Contracts', 'ADMIN', 'Staffing',\n",
       "       'Accounts', 'Dev', 'Merchandising', 'Programs',\n",
       "       'Digital Marketing', 'Software Services', 'software',\n",
       "       'Work at home', 'marketing', 'Golderado', 'Production ',\n",
       "       'CPG Industry', 'AFSHO', 'Supply & Chain', 'Engineeering',\n",
       "       'Live Operations', 'Store', 'medical', 'Office', 'Therapy ',\n",
       "       'Client Services ', 'Sales Intern',\n",
       "       'Information Technology & Services', 'Client Service Department',\n",
       "       'Inside Sales', 'Visionary Engineering', 'Graphic Design',\n",
       "       'reception', 'Non-Technical', 'N1 6AH', 'Sales and Research',\n",
       "       'Extras Division', 'Client Relations', 'LOgistics',\n",
       "       'Sales + Partnerships', 'School Bussing - Wellington & Waterloo',\n",
       "       'LEEDS', 'Ad Sales', 'Admin/Clerical', 'SCFB',\n",
       "       'Software Products - Development', 'Web', 'Outbound Sales',\n",
       "       'R&D Department', 'Management Team',\n",
       "       'HSE (Health Safety Environmental)', 'Personnel', 'engineering',\n",
       "       'Head Start', 'PHP', 'ECMH', 'NexLP', 'Operations - Repair Centre',\n",
       "       'BD', 'ICF', 'Finance and Operations', 'Danone - Sari Husada',\n",
       "       'Integration & Testing', 'Construction', 'OPS', 'Software',\n",
       "       'Digital Experience', 'Chats', 'WyR', 'Health and Social',\n",
       "       'I9 Manufacturing (345)', 'Accounting and Finance',\n",
       "       'NY Stars Premier', 'Tax', 'Digital Design', 'Hab Spec',\n",
       "       'Business/Producer', 'Driver Operations', 'Account', 'Front Desk',\n",
       "       'Voxburner', 'Software Products - Solutions', 'Healthcare', 'PR',\n",
       "       'Healthcare (Community)', 'CSDC', 'Events & Banquets',\n",
       "       'Sensor Systems', 'ΕΜΠΟΡΙΚΟ', 'Geology', 'Customer Service ',\n",
       "       'Professional Services Team', 'Back Office', 'ACCT',\n",
       "       'Quality Assurance', '5', 'Product Innovation', 'Backend',\n",
       "       'Studio', 'FILES DRIVER', 'SUPPORT', 'FIN', 'Engineers', 'ballet',\n",
       "       'Bandsintown Amplified Textlinks', 'Sales / Business Development',\n",
       "       'Project Controls', 'Dojo', 'SAP', 'HVAC', 'Main', 'Billing',\n",
       "       'Human Services', 'ResEd', 'RECOVERY-OPS',\n",
       "       'Medopad Technology Unit', 'Cardiology', 'National Programs',\n",
       "       'Asset Management', 'Office of the Development Manager', 'IT ',\n",
       "       'COLLECTION DEPT', 'Mobility', '.NET', 'Dev and Software QA',\n",
       "       'Support Services', 'Marketing and Communications', 'BI',\n",
       "       'Design ', 'Carrier Sales', 'Customer Happiness',\n",
       "       'Disaster Restoration', 'Entry Level Supervision',\n",
       "       'People Operations', 'Approvals Department',\n",
       "       'Design & Development', 'Server Engineering', 'Supply Chain',\n",
       "       'Electrical', 'WebDev', 'VMT ', 'Upper Level Management',\n",
       "       'Festicket', 'Wright Satellite Connections', 'Inside Sales Team',\n",
       "       'Conferences i/o', 'AFS18', 'Convalescent Aid Society',\n",
       "       'Cocolife Asset Management', 'Success / Sales / Production',\n",
       "       'Inbound', 'Operations ', 'Content Programming', 'AFSSA',\n",
       "       'Engineer', 'Member Service', 'Internship', 'Field Ops',\n",
       "       'Learning', 'Analyst', 'Holiday Inn Raleigh-Cary, NC', 'R&D Dept.',\n",
       "       'General Management', 'Purchasing', 'Tech Team', 'SLP', 'MIS',\n",
       "       'BizDev/Product', 'Dev & Software QA', 'Supply Chain ',\n",
       "       'Help Desk', 'UX/API', 'Exec', 'Fabrication',\n",
       "       'Marketing & Communications ', 'E-Commerce',\n",
       "       'Development & Support', 'Accounting/Finance', 'State of Indiana',\n",
       "       'Programmer', 'Small Luxury Lodge', 'Multiwork', 'Hospitality ',\n",
       "       'insidesales', 'Business Consultancy', 'AFSHOT', 'NYC', 'Edit',\n",
       "       'Tech & Innovation', 'Merchant', 'Exec Team', 'Entrepreneur',\n",
       "       'Member Services', 'Retail Pharmacy', 'Hampton Inn South',\n",
       "       'Human Resource', 'Commercial Department', 'Course Development',\n",
       "       'CDE', 'Front-End', 'Front end', 'Online Operations',\n",
       "       'Interpreting Services', 'Kreditech', 'Embedded Applications',\n",
       "       'Line-Up', 'Weave The People', 'DMB', 'Casino', 'Charters', 'CRM',\n",
       "       'MX', 'Intern & Graduate', 'UX Practice', 'Internal Engineering',\n",
       "       'Forwarding', 'PET', 'Office of the Infrastructure Manager',\n",
       "       'JNSP', 'EMC PBS', 'Front Office', 'Online PR', 'EXSD',\n",
       "       'ETRM Consulting', 'Consumer', 'Finance & Admin Services',\n",
       "       'Collections/Customer Service', 'ANDROIDPIT', 'Product Ops',\n",
       "       'Lettershop', 'Fleet', 'Front Office & Guest Services ', 'AdOps',\n",
       "       'education', 'I.T.', 'Developer', 'Web Analytics',\n",
       "       'Telecom Network', 'COMPLIANCE UNIT 701', '20',\n",
       "       'Businessfriend.com', 'Sales / Marketing', 'Partnerships', 'ICM',\n",
       "       '130 - Nutritional Yeast Packaging', 'Distribution Center',\n",
       "       'Supply', 'Back-End Development', 'Dental field', 'i',\n",
       "       ' Moni Technologies', 'Youth Health Clinic', 'Producer Team',\n",
       "       'Water Treatment', 'DMV', 'Revenues',\n",
       "       'PLANNING AND GENERAL AFFAIRS', 'Manufacturing & Production',\n",
       "       'Cardio Vascular', 'Funnelback ', 'Styling', 'Opearations',\n",
       "       'AFSHON', 'Product Development - Test', 'Parks and Recreation',\n",
       "       'CSR', 'Brand ', 'IAASARS', 'North Portland',\n",
       "       'Business Developmment', 'Holiday Inn Cary NC', 'Client Success',\n",
       "       'Customer service', 'Field Services',\n",
       "       'Business Development/Product', 'appdev', 'DSD',\n",
       "       'Checker Limousine, Charters, Patient Transfer Service ',\n",
       "       'Marcomm', 'All Companies', 'RN', 'BIPIO', 'Salesforce ',\n",
       "       'Marketing – Pame Stoixima', 'PMO002', 'ViV5', 'North Orange',\n",
       "       'Aptris', 'Electronics', 'GSA', 'Family Medicine',\n",
       "       'Incubation Services', 'Research & Development', 'Localization',\n",
       "       'Maintenance Technician/Projects ', 'Data', 'Recruitment',\n",
       "       'Mortgage', 'Customer Service & Tech Support', 'SECNEC',\n",
       "       'Technology ', 'CSA REP', 'Sales & Business Development',\n",
       "       'Investor Development', 'Server', 'Student Beans iD',\n",
       "       ' Lower Level Management', 'Strategic Initiatives ', 'CSS',\n",
       "       'Development  ', 'GEN', 'Narrative Science', 'Account team',\n",
       "       '3D Art', 'Servicing-Customer Care', 'Harrogate',\n",
       "       'Android Developer', 'Social Media Marketing', 'Africa Program',\n",
       "       'Food', 'Delivery - Engineering Projects', 'IT team',\n",
       "       'ΠΛΗΡΟΦΟΡΙΚΗ', 'Equinix', 'Fuel Oil', 'Data Collection',\n",
       "       'Internet', 'Frontend', 'Direct Care Team', 'Engineering:Dev Ops',\n",
       "       'Sale', 'Meanwood', 'FREELANCE NEWS RESEARCH', '49',\n",
       "       'HOLIDAY COTTAGES', 'CA', 'Food and Beverage', 'Accountant',\n",
       "       'Film', 'Figo Pet Insurance', 'AMG', 'Delivery',\n",
       "       'Front Desk Administration', 'Kahoots App', 'Locaria', 'EXWD',\n",
       "       'Pharmaceutical', 'Cloud Services', 'HQ ', 'Product Strategy',\n",
       "       'Engineering:Software Engineering', 'Residential/Community',\n",
       "       'Schools ', 'Platforms', 'Building Services', 'FRAUD DEPT',\n",
       "       'Technical Service', 'Windows Phone Developer', 'SportsLock',\n",
       "       'CEO Office', 'CALL CENTER SP', 'Project Management ',\n",
       "       'Research & Evaluation', 'Simple Relevance', 'Housekeeping',\n",
       "       'Program', 'Clearview', 'Planning and Management Office',\n",
       "       'Real Estate & Insurance Sales', 'accounting', 'Brandid',\n",
       "       'WeDeliver', 'VoIP', 'SW', 'Pharmacy', 'Crane Brothers',\n",
       "       'Data Entry, Clerical Admin, Administrative Assistant, Customer Service,  Accounting, payroll Clerk, Book keeping',\n",
       "       'Garage', 'Facilities', 'iOS ', 'Outward Facing Team',\n",
       "       'Homeworker', 'Game Design', 'DRIVER', 'PMSA10035',\n",
       "       'Technology (Application Development)',\n",
       "       'IT Applications Directorate ', 'Products & User Experience',\n",
       "       'OTC', 'Development Services', 'AML', 'Pharmaceuticals / Finance',\n",
       "       'Computer/IT Services', 'UG', 'Business Team',\n",
       "       'Industrial Services', 'Área Comercial', 'Products', 'Teller',\n",
       "       'Social Media Management', 'Packback', 'Health', 'Quality',\n",
       "       'Quality Control Dept.', 'Web design', 'Product & Marketing',\n",
       "       'Leaf Technologies', 'Healthcare (Acute)',\n",
       "       'Project Management & Solutions', 'Playfair Capital',\n",
       "       'Recruitment ', 'Grapevine, TX', 'web development', 'Freeze Dry',\n",
       "       'Customer X', 'Sustainable Home Survey CIC', 'Web dev',\n",
       "       'RHB OUTSOURCING', 'Administrator ', 'Product Eng', 'Sales / BD',\n",
       "       'SWT', 'Sales / Operations', 'Support ', 'Investment Operations',\n",
       "       'Unity Developer', 'UX', 'ACES', 'Hospital', 'Art Fairs',\n",
       "       'Pricing', 'Dermatology', 'Nurs-K1', '(Consultant)',\n",
       "       'Business:Market Analysis', 'Risk', 'Datastage',\n",
       "       'Small Animal Hospital', 'Community Engagement',\n",
       "       'Server Operations', 'Press', 'Culinary ', 'Field Sales',\n",
       "       'Visionary Engineering, SW'], dtype=object)"
      ]
     },
     "execution_count": 58,
     "metadata": {},
     "output_type": "execute_result"
    }
   ],
   "source": [
    "train.Отдел.unique()"
   ]
  },
  {
   "cell_type": "code",
   "execution_count": 59,
   "metadata": {},
   "outputs": [
    {
     "data": {
      "text/plain": [
       "array(['Full-time', nan, 'Part-time', 'Contract', 'Other', 'Temporary'],\n",
       "      dtype=object)"
      ]
     },
     "execution_count": 59,
     "metadata": {},
     "output_type": "execute_result"
    }
   ],
   "source": [
    "train.Тип_занятости.unique()"
   ]
  },
  {
   "cell_type": "code",
   "execution_count": 60,
   "metadata": {},
   "outputs": [],
   "source": [
    "train.Тип_занятости.fillna('Other', inplace=True)\n",
    "test.Тип_занятости.fillna('Other', inplace=True)"
   ]
  },
  {
   "cell_type": "code",
   "execution_count": 61,
   "metadata": {},
   "outputs": [
    {
     "data": {
      "text/plain": [
       "Id                      0\n",
       "Название                0\n",
       "Отдел                   0\n",
       "Зарплата                0\n",
       "Описание_компании    2046\n",
       "Описание_вакансии       0\n",
       "Требования           1631\n",
       "Соцпакет             4331\n",
       "Дистанционно            0\n",
       "Вопросы                 0\n",
       "Тип_занятости           0\n",
       "Опыт                 4250\n",
       "Образование          4892\n",
       "Индустрия            2953\n",
       "Позиция              3875\n",
       "Фейк                    0\n",
       "Страна                  0\n",
       "Штат                    0\n",
       "Город                   0\n",
       "dtype: int64"
      ]
     },
     "execution_count": 61,
     "metadata": {},
     "output_type": "execute_result"
    }
   ],
   "source": [
    "train.isnull().sum()"
   ]
  },
  {
   "cell_type": "code",
   "execution_count": 62,
   "metadata": {},
   "outputs": [
    {
     "data": {
      "text/plain": [
       "Mid-Senior level    2301\n",
       "Entry level         1626\n",
       "Associate           1340\n",
       "Not Applicable       680\n",
       "Internship           230\n",
       "Director             227\n",
       "Executive             74\n",
       "Name: Опыт, dtype: int64"
      ]
     },
     "execution_count": 62,
     "metadata": {},
     "output_type": "execute_result"
    }
   ],
   "source": [
    "train.Опыт.value_counts()"
   ]
  },
  {
   "cell_type": "code",
   "execution_count": 63,
   "metadata": {},
   "outputs": [],
   "source": [
    "train.Опыт.fillna('No Experience', inplace=True)\n",
    "test.Опыт.fillna('No Experience', inplace=True)"
   ]
  },
  {
   "cell_type": "code",
   "execution_count": 64,
   "metadata": {},
   "outputs": [
    {
     "data": {
      "text/plain": [
       "array([\"Bachelor's Degree\", 'Unspecified', nan,\n",
       "       'High School or equivalent', \"Master's Degree\", 'Associate Degree',\n",
       "       'Some College Coursework Completed', 'Certification', 'Vocational',\n",
       "       'Doctorate', 'Professional', 'Some High School Coursework',\n",
       "       'Vocational - HS Diploma', 'Vocational - Degree'], dtype=object)"
      ]
     },
     "execution_count": 64,
     "metadata": {},
     "output_type": "execute_result"
    }
   ],
   "source": [
    "train.Образование.unique()"
   ]
  },
  {
   "cell_type": "code",
   "execution_count": 65,
   "metadata": {},
   "outputs": [
    {
     "data": {
      "text/plain": [
       "Bachelor's Degree                    3080\n",
       "High School or equivalent            1259\n",
       "Unspecified                           838\n",
       "Master's Degree                       234\n",
       "Associate Degree                      161\n",
       "Certification                          89\n",
       "Some College Coursework Completed      61\n",
       "Professional                           47\n",
       "Vocational                             24\n",
       "Doctorate                              17\n",
       "Some High School Coursework            14\n",
       "Vocational - HS Diploma                 8\n",
       "Vocational - Degree                     4\n",
       "Name: Образование, dtype: int64"
      ]
     },
     "execution_count": 65,
     "metadata": {},
     "output_type": "execute_result"
    }
   ],
   "source": [
    "train.Образование.value_counts()"
   ]
  },
  {
   "cell_type": "code",
   "execution_count": 66,
   "metadata": {},
   "outputs": [],
   "source": [
    "train.Образование.fillna(train['Образование'].value_counts().index[0], inplace=True)\n",
    "test.Образование.fillna(test['Образование'].value_counts().index[0], inplace=True)"
   ]
  },
  {
   "cell_type": "code",
   "execution_count": 67,
   "metadata": {},
   "outputs": [
    {
     "data": {
      "text/plain": [
       "array(['Publishing', 'Computer Software', nan, 'Telecommunications',\n",
       "       'Marketing and Advertising', 'Legal Services', 'Sports',\n",
       "       'Broadcast Media', 'Management Consulting',\n",
       "       'Information Technology and Services', 'Accounting',\n",
       "       'Food Production', 'Events Services', 'Logistics and Supply Chain',\n",
       "       'Education Management', 'Business Supplies and Equipment',\n",
       "       'Retail', 'Internet', 'Oil & Energy', 'Computer Games',\n",
       "       'Financial Services', 'Design', 'Banking', 'Consumer Services',\n",
       "       'Hospital & Health Care', 'Aviation & Aerospace',\n",
       "       'Facilities Services', 'Medical Practice', 'Hospitality',\n",
       "       'Gambling & Casinos', 'Market Research', 'Real Estate', 'Maritime',\n",
       "       'Staffing and Recruiting', 'Pharmaceuticals', 'Automotive',\n",
       "       'Insurance', 'Leisure, Travel & Tourism',\n",
       "       'Nonprofit Organization Management', 'Online Media',\n",
       "       'Human Resources', 'Capital Markets',\n",
       "       'Public Relations and Communications',\n",
       "       'Health, Wellness and Fitness', 'Consumer Goods',\n",
       "       'Computer Hardware', 'Mining & Metals', 'Airlines/Aviation',\n",
       "       'Semiconductors', 'Media Production', 'Biotechnology',\n",
       "       'Computer Networking', 'Apparel & Fashion', 'Cosmetics',\n",
       "       'Transportation/Trucking/Railroad', 'Chemicals',\n",
       "       'Consumer Electronics', 'Construction', 'Graphic Design',\n",
       "       'Warehousing', 'Civic & Social Organization', 'E-Learning',\n",
       "       'Ranching', 'Libraries', 'Restaurants', 'Philanthropy',\n",
       "       'Venture Capital & Private Equity', 'Translation and Localization',\n",
       "       'Higher Education', 'Furniture', 'Government Relations',\n",
       "       'Information Services', 'Electrical/Electronic Manufacturing',\n",
       "       'Security and Investigations', 'Farming', 'Food & Beverages',\n",
       "       'Defense & Space', 'Medical Devices', 'Wholesale',\n",
       "       'Government Administration', 'Public Policy',\n",
       "       'Individual & Family Services', 'Civil Engineering',\n",
       "       'Mechanical or Industrial Engineering', 'Research', 'Fund-Raising',\n",
       "       'Investment Management', 'Printing', 'Outsourcing/Offshoring',\n",
       "       'Computer & Network Security', 'Law Enforcement',\n",
       "       'Building Materials', 'Environmental Services', 'Utilities',\n",
       "       'Program Development', 'Entertainment', 'Religious Institutions',\n",
       "       'Law Practice', 'Packaging and Containers',\n",
       "       'Luxury Goods & Jewelry', 'Commercial Real Estate',\n",
       "       'Professional Training & Coaching', 'Animation',\n",
       "       'Writing and Editing', 'Renewables & Environment', 'Wireless',\n",
       "       'Veterinary', 'Industrial Automation', 'Motion Pictures and Film',\n",
       "       'Architecture & Planning', 'International Trade and Development',\n",
       "       'Machinery', 'Executive Office', 'Import and Export', 'Plastics',\n",
       "       'Sporting Goods', 'Photography', 'Music', 'Mental Health Care',\n",
       "       'Public Safety', 'Primary/Secondary Education', 'Fishery',\n",
       "       'Investment Banking', 'Performing Arts',\n",
       "       'Package/Freight Delivery', 'Museums and Institutions',\n",
       "       'Shipbuilding', 'Military', 'Textiles'], dtype=object)"
      ]
     },
     "execution_count": 67,
     "metadata": {},
     "output_type": "execute_result"
    }
   ],
   "source": [
    "train.Индустрия.unique()"
   ]
  },
  {
   "cell_type": "code",
   "execution_count": 68,
   "metadata": {},
   "outputs": [],
   "source": [
    "train.Индустрия.fillna(train['Индустрия'].value_counts().index[0], inplace=True)\n",
    "test.Индустрия.fillna(test['Индустрия'].value_counts().index[0], inplace=True)"
   ]
  },
  {
   "cell_type": "code",
   "execution_count": 69,
   "metadata": {},
   "outputs": [
    {
     "data": {
      "text/plain": [
       "200                             Accounting\n",
       "201    Information Technology and Services\n",
       "202    Information Technology and Services\n",
       "203              Marketing and Advertising\n",
       "204              Marketing and Advertising\n",
       "205                                 Sports\n",
       "206    Information Technology and Services\n",
       "207                 Hospital & Health Care\n",
       "208    Information Technology and Services\n",
       "209    Information Technology and Services\n",
       "210                        Mining & Metals\n",
       "211    Information Technology and Services\n",
       "212    Information Technology and Services\n",
       "213    Information Technology and Services\n",
       "214      Nonprofit Organization Management\n",
       "215    Information Technology and Services\n",
       "216              Marketing and Advertising\n",
       "217      Nonprofit Organization Management\n",
       "218    Information Technology and Services\n",
       "219                      Airlines/Aviation\n",
       "220    Information Technology and Services\n",
       "221                     Financial Services\n",
       "222              Marketing and Advertising\n",
       "223                 Hospital & Health Care\n",
       "224    Information Technology and Services\n",
       "225    Information Technology and Services\n",
       "226    Information Technology and Services\n",
       "227                     Telecommunications\n",
       "228                               Internet\n",
       "229                           Oil & Energy\n",
       "230                      Computer Software\n",
       "231                      Computer Software\n",
       "232                  Management Consulting\n",
       "233              Marketing and Advertising\n",
       "234                           Online Media\n",
       "235                        Pharmaceuticals\n",
       "236                         Semiconductors\n",
       "237                              Insurance\n",
       "238                       Media Production\n",
       "239                                 Design\n",
       "240                   Education Management\n",
       "241    Information Technology and Services\n",
       "242    Information Technology and Services\n",
       "243                      Computer Software\n",
       "244                               Internet\n",
       "245    Information Technology and Services\n",
       "246                      Computer Software\n",
       "247    Information Technology and Services\n",
       "248              Marketing and Advertising\n",
       "249    Information Technology and Services\n",
       "250    Information Technology and Services\n",
       "251    Information Technology and Services\n",
       "252                        Food Production\n",
       "253    Information Technology and Services\n",
       "254    Information Technology and Services\n",
       "255    Information Technology and Services\n",
       "256                          Biotechnology\n",
       "257    Information Technology and Services\n",
       "258                   Education Management\n",
       "259                    Computer Networking\n",
       "Name: Индустрия, dtype: object"
      ]
     },
     "execution_count": 69,
     "metadata": {},
     "output_type": "execute_result"
    }
   ],
   "source": [
    "train.Индустрия[200:260]"
   ]
  },
  {
   "cell_type": "code",
   "execution_count": 70,
   "metadata": {},
   "outputs": [],
   "source": [
    "import re\n",
    "\n",
    "def clean(words):\n",
    "    words = re.sub(r'&', '', words)\n",
    "    \n",
    "    words = re.sub(r'\\/', ' ', words)\n",
    "    return words"
   ]
  },
  {
   "cell_type": "code",
   "execution_count": 71,
   "metadata": {},
   "outputs": [],
   "source": [
    "train['Индустрия'] = train['Индустрия'].apply(clean)\n",
    "test['Индустрия'] = test['Индустрия'].apply(clean)"
   ]
  },
  {
   "cell_type": "code",
   "execution_count": 72,
   "metadata": {},
   "outputs": [
    {
     "data": {
      "text/plain": [
       "Id                      0\n",
       "Название                0\n",
       "Отдел                   0\n",
       "Зарплата                0\n",
       "Описание_компании    2046\n",
       "Описание_вакансии       0\n",
       "Требования           1631\n",
       "Соцпакет             4331\n",
       "Дистанционно            0\n",
       "Вопросы                 0\n",
       "Тип_занятости           0\n",
       "Опыт                    0\n",
       "Образование             0\n",
       "Индустрия               0\n",
       "Позиция              3875\n",
       "Фейк                    0\n",
       "Страна                  0\n",
       "Штат                    0\n",
       "Город                   0\n",
       "dtype: int64"
      ]
     },
     "execution_count": 72,
     "metadata": {},
     "output_type": "execute_result"
    }
   ],
   "source": [
    "train.isnull().sum()"
   ]
  },
  {
   "cell_type": "code",
   "execution_count": 73,
   "metadata": {},
   "outputs": [
    {
     "data": {
      "text/html": [
       "<div>\n",
       "<style scoped>\n",
       "    .dataframe tbody tr th:only-of-type {\n",
       "        vertical-align: middle;\n",
       "    }\n",
       "\n",
       "    .dataframe tbody tr th {\n",
       "        vertical-align: top;\n",
       "    }\n",
       "\n",
       "    .dataframe thead th {\n",
       "        text-align: right;\n",
       "    }\n",
       "</style>\n",
       "<table border=\"1\" class=\"dataframe\">\n",
       "  <thead>\n",
       "    <tr style=\"text-align: right;\">\n",
       "      <th></th>\n",
       "      <th>Id</th>\n",
       "      <th>Название</th>\n",
       "      <th>Отдел</th>\n",
       "      <th>Зарплата</th>\n",
       "      <th>Описание_компании</th>\n",
       "      <th>Описание_вакансии</th>\n",
       "      <th>Требования</th>\n",
       "      <th>Соцпакет</th>\n",
       "      <th>Дистанционно</th>\n",
       "      <th>Вопросы</th>\n",
       "      <th>Тип_занятости</th>\n",
       "      <th>Опыт</th>\n",
       "      <th>Образование</th>\n",
       "      <th>Индустрия</th>\n",
       "      <th>Позиция</th>\n",
       "      <th>Фейк</th>\n",
       "      <th>Страна</th>\n",
       "      <th>Штат</th>\n",
       "      <th>Город</th>\n",
       "    </tr>\n",
       "  </thead>\n",
       "  <tbody>\n",
       "    <tr>\n",
       "      <th>0</th>\n",
       "      <td>10497</td>\n",
       "      <td>Reporter, Agri Investor</td>\n",
       "      <td>KHR</td>\n",
       "      <td>999.0</td>\n",
       "      <td>PEI Media (#URL_4cffe430b8da4c0d7e6074d11e638d...</td>\n",
       "      <td>Seeking savvy business reporter Are you a news...</td>\n",
       "      <td>The successful candidate should have a bachelo...</td>\n",
       "      <td>PEI Media (#URL_4cffe430b8da4c0d7e6074d11e638d...</td>\n",
       "      <td>0</td>\n",
       "      <td>0</td>\n",
       "      <td>Full-time</td>\n",
       "      <td>Associate</td>\n",
       "      <td>Bachelor's Degree</td>\n",
       "      <td>Publishing</td>\n",
       "      <td>Writing/Editing</td>\n",
       "      <td>0</td>\n",
       "      <td>US</td>\n",
       "      <td>None</td>\n",
       "      <td>None</td>\n",
       "    </tr>\n",
       "  </tbody>\n",
       "</table>\n",
       "</div>"
      ],
      "text/plain": [
       "      Id                 Название Отдел  Зарплата  \\\n",
       "0  10497  Reporter, Agri Investor   KHR     999.0   \n",
       "\n",
       "                                   Описание_компании  \\\n",
       "0  PEI Media (#URL_4cffe430b8da4c0d7e6074d11e638d...   \n",
       "\n",
       "                                   Описание_вакансии  \\\n",
       "0  Seeking savvy business reporter Are you a news...   \n",
       "\n",
       "                                          Требования  \\\n",
       "0  The successful candidate should have a bachelo...   \n",
       "\n",
       "                                            Соцпакет  Дистанционно  Вопросы  \\\n",
       "0  PEI Media (#URL_4cffe430b8da4c0d7e6074d11e638d...             0        0   \n",
       "\n",
       "  Тип_занятости       Опыт        Образование   Индустрия          Позиция  \\\n",
       "0     Full-time  Associate  Bachelor's Degree  Publishing  Writing/Editing   \n",
       "\n",
       "   Фейк Страна  Штат Город  \n",
       "0     0     US  None  None  "
      ]
     },
     "execution_count": 73,
     "metadata": {},
     "output_type": "execute_result"
    }
   ],
   "source": [
    "train.head(1)"
   ]
  },
  {
   "cell_type": "code",
   "execution_count": 74,
   "metadata": {},
   "outputs": [
    {
     "data": {
      "text/html": [
       "<div>\n",
       "<style scoped>\n",
       "    .dataframe tbody tr th:only-of-type {\n",
       "        vertical-align: middle;\n",
       "    }\n",
       "\n",
       "    .dataframe tbody tr th {\n",
       "        vertical-align: top;\n",
       "    }\n",
       "\n",
       "    .dataframe thead th {\n",
       "        text-align: right;\n",
       "    }\n",
       "</style>\n",
       "<table border=\"1\" class=\"dataframe\">\n",
       "  <thead>\n",
       "    <tr style=\"text-align: right;\">\n",
       "      <th></th>\n",
       "      <th>Id</th>\n",
       "      <th>Название</th>\n",
       "      <th>Отдел</th>\n",
       "      <th>Зарплата</th>\n",
       "      <th>Описание_компании</th>\n",
       "      <th>Описание_вакансии</th>\n",
       "      <th>Требования</th>\n",
       "      <th>Соцпакет</th>\n",
       "      <th>Дистанционно</th>\n",
       "      <th>Вопросы</th>\n",
       "      <th>Тип_занятости</th>\n",
       "      <th>Опыт</th>\n",
       "      <th>Образование</th>\n",
       "      <th>Индустрия</th>\n",
       "      <th>Позиция</th>\n",
       "      <th>Страна</th>\n",
       "      <th>Штат</th>\n",
       "      <th>Город</th>\n",
       "    </tr>\n",
       "  </thead>\n",
       "  <tbody>\n",
       "    <tr>\n",
       "      <th>0</th>\n",
       "      <td>10728</td>\n",
       "      <td>Internet Marketing Specialist</td>\n",
       "      <td>Marketing</td>\n",
       "      <td>999.0</td>\n",
       "      <td>NaN</td>\n",
       "      <td>This role represents an important position wit...</td>\n",
       "      <td> 3 to 10+ years experience in a similar inter...</td>\n",
       "      <td>RemunerationA highly attractive salary will be...</td>\n",
       "      <td>0</td>\n",
       "      <td>0</td>\n",
       "      <td>Other</td>\n",
       "      <td>No Experience</td>\n",
       "      <td>Bachelor's Degree</td>\n",
       "      <td>Information Technology and Services</td>\n",
       "      <td>NaN</td>\n",
       "      <td>IE</td>\n",
       "      <td>L</td>\n",
       "      <td>Dublin</td>\n",
       "    </tr>\n",
       "  </tbody>\n",
       "</table>\n",
       "</div>"
      ],
      "text/plain": [
       "      Id                       Название      Отдел  Зарплата  \\\n",
       "0  10728  Internet Marketing Specialist  Marketing     999.0   \n",
       "\n",
       "  Описание_компании                                  Описание_вакансии  \\\n",
       "0               NaN  This role represents an important position wit...   \n",
       "\n",
       "                                          Требования  \\\n",
       "0   3 to 10+ years experience in a similar inter...   \n",
       "\n",
       "                                            Соцпакет  Дистанционно  Вопросы  \\\n",
       "0  RemunerationA highly attractive salary will be...             0        0   \n",
       "\n",
       "  Тип_занятости           Опыт        Образование  \\\n",
       "0         Other  No Experience  Bachelor's Degree   \n",
       "\n",
       "                             Индустрия Позиция Страна Штат   Город  \n",
       "0  Information Technology and Services     NaN     IE    L  Dublin  "
      ]
     },
     "execution_count": 74,
     "metadata": {},
     "output_type": "execute_result"
    }
   ],
   "source": [
    "test.head(1)"
   ]
  },
  {
   "cell_type": "code",
   "execution_count": 75,
   "metadata": {},
   "outputs": [
    {
     "data": {
      "text/plain": [
       "Id                      0\n",
       "Название                0\n",
       "Отдел                   0\n",
       "Зарплата                0\n",
       "Описание_компании    2046\n",
       "Описание_вакансии       0\n",
       "Требования           1631\n",
       "Соцпакет             4331\n",
       "Дистанционно            0\n",
       "Вопросы                 0\n",
       "Тип_занятости           0\n",
       "Опыт                    0\n",
       "Образование             0\n",
       "Индустрия               0\n",
       "Позиция              3875\n",
       "Фейк                    0\n",
       "Страна                  0\n",
       "Штат                    0\n",
       "Город                   0\n",
       "dtype: int64"
      ]
     },
     "execution_count": 75,
     "metadata": {},
     "output_type": "execute_result"
    }
   ],
   "source": [
    "train.isnull().sum()"
   ]
  },
  {
   "cell_type": "markdown",
   "metadata": {},
   "source": [
    "### Working with only 3 columns ['Описание_компании' , \"Описание_вакансии\",\"Требования\",\"Соцпакет\"]"
   ]
  },
  {
   "cell_type": "code",
   "execution_count": 76,
   "metadata": {},
   "outputs": [
    {
     "data": {
      "text/plain": [
       "array(['PEI Media\\xa0(#URL_4cffe430b8da4c0d7e6074d11e638d28a1e165c8782b891e111fc17606c3d961#) provides a range of highly respected publications and market leading events to its financial sector audience. The\\xa0leading information provider in private capital markets, PEI Media also has a strong international presence, with offices in London, New York and Hong Kong.',\n",
       "       \"Roka Security is a boutique security firm that specializes in full-scale network protection and defending against advanced, targeted attacks. Our staff members have background in governmental and intelligence fields as well as large-scale data center and network deployments.We leverage our in-depth experience to aid our customers in protecting their data, and their intellectual property, andtheir customer's data, We help our clients with the full breadth of services whether it's consulting on general security issues or performing security assessments or assisting them with their latest network design or datacenter build-out. We also provide the full breadth of managed services including managed security perimeters, Managed Infrastructure / private cloud, or 24x7 security monitoring in our state-of-the-art Security Operations Center.\",\n",
       "       nan,\n",
       "       \"Bright Edge and Aptitude Staffing Solutions have partnered up in an effort to streamline the hiring process and provide a more efficient and effective recruitng model.\\xa0 Our focus is to help develop and achieve your career goals while makeing a solid geographical, cultural and professional fiit when leveraging your career into your new and exciting professional venture!BrightEdge today is over 180 employees strong, and continuously growing. BrightEdge has over 8400 brands and 650 direct customers, and has lead the market in SEO innovation. The new headquarters reflect BrightEdge's growth and the maturity of the company, with a sleek and modern space in the heart of Silicon Valley.Stay tuned, as BrightEdge's story is only beginning.\\xa0\",\n",
       "       \"Novitex Enterprise Solutions, formerly Pitney Bowes Management Services, delivers innovative document and communications management solutions that help companies around the world drive business process efficiencies, increase productivity, reduce costs and improve customer satisfaction. For almost 30 years, clients have turned to us to integrate and optimize their enterprise-wide business processes to empower employees, increase productivity and maximize results. As a trusted partner, we continually focus on delivering secure, technology-enabled document and communications solutions that improve our clients' work processes, enhance their customer interactions and drive growth.\",\n",
       "       'The Albany Charter School Network is a family of charter schools in the City of Albany that works to prepare children for meaningful future lives – as purposeful, productive, and participatory citizens of New York, the United States, and the world.Our strong and unified movement of charter schools collaborates with parents to provide for all students a vibrant academic environment and dynamic learning experiences that create what we call “Future Life Opportunity” – a pathway to success in college, career, and community life.The Albany Charter School Network and the schools that comprise our community are always looking for highly committed and highly skilled people to come and join us in the exciting and meaningful work of helping create Future Life Opportunity for this generation of students.Please take the time to look at the various open positions on our site. If there is a role for which you think you would be a great match, then we encourage you to learn more about it and submit an application.',\n",
       "       'EUROPEAN DYNAMICS (#URL_c66532ffa1ce76ab447da6774719060c42c584edbf44d74cdb94fc4ac219ca45#) is a leading European Software, Information and Communication Technologies company, operating internationally (Athens, Brussels, Luxembourg, Copenhagen, Berlin, Rome, Stockholm, London, Nicosia, Helsinki, Valetta, etc). The company employs over 600 engineers and IT experts. We design and develop software applications using integrated, state-of-the-art technology. Our current IT and telecoms projects have a value exceeding 250 million EURO. EUROPEAN DYNAMICS is a renowned supplier of IT services to European Union Institutions, international organizations, European Agencies and national government Administrations all over Europe.',\n",
       "       'Spartan Race, is an international obstacle racing organization. \\xa0Our courses are uniquely designed to test participants’ mental and emotional fitness. \\xa0Spartan Race is growing by leaps and bounds and is looking for driven, organized people able to work efficiently in the face of challenges. \\xa0You must be willing to live by the Spartan Code:A Spartan pushes their mind and body to their limits.A Spartan masters their emotions.A Spartan learns continuously.A Spartan gives generously.A Spartan leads.A Spartan stands up for what they believe in, no matter the cost.A Spartan knows their flaws as well as they know their strengths.A Spartan proves themselves through actions, not words.A Spartan lives every day as if it were their last.',\n",
       "       'Babbel enables anyone to learn languages in an easy and interactive way. The learning system offers 13 languages, from English to Indonesian. Users with and without previous knowledge can access grammar and thematic courses as well as vocabulary, writing and listening comprehension exercises online and on the go. In addition to the full courses for web, iOS and Android, there are also vocabulary trainer apps for Windows 8 and the Kindle Fire.Babbel is operated by Lesson Nine GmbH in Berlin. The company was founded in August 2007 and now has approximately 250 employees and freelancers and is opening an office in New York City (Lower East Side).',\n",
       "       'Applied Memetics LLC\\xa0is a professional services company dedicated to integrating and delivering best practice communication and information solutions in pre-conflict, conflict, or post-conflict areas. \\xa0The world has changed: ‘always on’ brands require a new way of thinking to engage and manage their consumers. Our purpose is to inspire original thinking through a deeper understanding of technology and human behaviour. \\xa0From strategy through to implementation, our teams of connected specialists – all experts in their respective fields – work together to help our clients maximise the opportunities created by the changing digital world and create a multi faceted digital strategy through to implementation.Our work explores a new model of journalism that is based around a global story – in this case, the struggle for human rights and democracy around the world. Our goal is to build a better user experience of these stories by adding context to content, using the latest digital tools of the day. Over time, we hope to add greater clarity, deeper understanding, and more sustained engagement to the conversations surrounding global events. As such, our content is transcribed and translated into English for broadcast to a global audience.'],\n",
       "      dtype=object)"
      ]
     },
     "execution_count": 76,
     "metadata": {},
     "output_type": "execute_result"
    }
   ],
   "source": [
    "train.Описание_компании.unique()[:10]"
   ]
  },
  {
   "cell_type": "code",
   "execution_count": 77,
   "metadata": {},
   "outputs": [],
   "source": [
    "processed = train['Описание_компании']\n",
    "processed_test = test['Описание_компании']"
   ]
  },
  {
   "cell_type": "code",
   "execution_count": 78,
   "metadata": {},
   "outputs": [],
   "source": [
    "#Email address\n",
    "processed = processed.str.replace(r'^.+@[^\\.].*\\.[a-z]{2,}$', 'emailaddr')\n",
    "processed_test = processed_test.str.replace(r'^.+@[^\\.].*\\.[a-z]{2,}$', 'emailaddr')\n",
    "# replace money symbols to  'moneysymb'\n",
    "processed = processed.str.replace(r'£|\\$', 'moneysymb')\n",
    "processed_test = processed_test.str.replace(r'£|\\$', 'moneysymb')\n",
    "#replace 10 digit phone numbers\n",
    "processed = processed.str.replace(r'^\\(?[\\d]{3}\\)?[\\s-]?[\\d]{3}[\\s-]?[\\d]{4}$', 'phonenumb')\n",
    "processed_test = processed_test.str.replace(r'^\\(?[\\d]{3}\\)?[\\s-]?[\\d]{3}[\\s-]?[\\d]{4}$', 'phonenumb')\n",
    "#replace numbers to  'numbr'\n",
    "processed = processed.str.replace(r'\\d+(\\.\\d+)?', 'numbr')\n",
    "processed_test = processed_test.str.replace(r'\\d+(\\.\\d+)?', 'numbr')\n",
    "#remove punctuation \n",
    "processed = processed.str.replace(r'[^\\w\\d\\s]', ' ')\n",
    "processed_test = processed_test.str.replace(r'[^\\w\\d\\s]', ' ')\n",
    "#replace whitespace between terms with a single space\n",
    "processed = processed.str.replace(r'\\s+', ' ')\n",
    "processed_test = processed_test.str.replace(r'\\s+', ' ')\n",
    "#replace leading and trailling whitespace\n",
    "processed = processed.str.replace(r'^\\s+|\\s+?$', '')\n",
    "processed_test = processed_test.str.replace(r'^\\s+|\\s+?$', '')"
   ]
  },
  {
   "cell_type": "code",
   "execution_count": 79,
   "metadata": {},
   "outputs": [],
   "source": [
    "# replace url with 'webaddr'\n",
    "processed = processed.str.replace(r'URL\\_[a-z0-9]+', 'webaddr')\n",
    "processed_test = processed_test.str.replace(r'URL\\_[a-z0-9]+', 'webaddr')"
   ]
  },
  {
   "cell_type": "code",
   "execution_count": 80,
   "metadata": {},
   "outputs": [],
   "source": [
    "# to lower case \n",
    "processed = processed.str.lower()\n",
    "processed_test = processed_test.str.lower()"
   ]
  },
  {
   "cell_type": "code",
   "execution_count": 84,
   "metadata": {},
   "outputs": [],
   "source": [
    "processed.fillna(\"None\", inplace=True)\n",
    "processed_test.fillna(\"None\", inplace=True)"
   ]
  },
  {
   "cell_type": "code",
   "execution_count": 87,
   "metadata": {},
   "outputs": [],
   "source": [
    "# remove stop words from text message\n",
    "stop_words = set(stopwords.words('english'))\n",
    "\n",
    "processed = processed.apply(lambda x: \" \".join(term for term in x.split() if term not in stop_words))\n",
    "processed_test = processed_test.apply(lambda x: \" \".join(term for term in x.split() if term not in stop_words))"
   ]
  },
  {
   "cell_type": "code",
   "execution_count": 88,
   "metadata": {},
   "outputs": [],
   "source": [
    "ps = nltk.PorterStemmer()\n",
    "processed = processed.apply(lambda x: \" \".join(ps.stem(term) for  term in x.split()))\n",
    "processed_test = processed_test.apply(lambda x: \" \".join(ps.stem(term) for  term in x.split()))"
   ]
  },
  {
   "cell_type": "code",
   "execution_count": 89,
   "metadata": {},
   "outputs": [],
   "source": [
    "train['Описание_компании'] = processed\n",
    "test['Описание_компании'] = processed_test"
   ]
  },
  {
   "cell_type": "code",
   "execution_count": 90,
   "metadata": {},
   "outputs": [],
   "source": [
    "processed = train['Описание_вакансии']\n",
    "processed_test = test['Описание_вакансии']\n",
    "\n",
    "#Email address\n",
    "processed = processed.str.replace(r'^.+@[^\\.].*\\.[a-z]{2,}$', 'emailaddr')\n",
    "processed_test = processed_test.str.replace(r'^.+@[^\\.].*\\.[a-z]{2,}$', 'emailaddr')\n",
    "# replace money symbols to  'moneysymb'\n",
    "processed = processed.str.replace(r'£|\\$', 'moneysymb')\n",
    "processed_test = processed_test.str.replace(r'£|\\$', 'moneysymb')\n",
    "#replace 10 digit phone numbers\n",
    "processed = processed.str.replace(r'^\\(?[\\d]{3}\\)?[\\s-]?[\\d]{3}[\\s-]?[\\d]{4}$', 'phonenumb')\n",
    "processed_test = processed_test.str.replace(r'^\\(?[\\d]{3}\\)?[\\s-]?[\\d]{3}[\\s-]?[\\d]{4}$', 'phonenumb')\n",
    "#replace numbers to  'numbr'\n",
    "processed = processed.str.replace(r'\\d+(\\.\\d+)?', 'numbr')\n",
    "processed_test = processed_test.str.replace(r'\\d+(\\.\\d+)?', 'numbr')\n",
    "#remove punctuation \n",
    "processed = processed.str.replace(r'[^\\w\\d\\s]', ' ')\n",
    "processed_test = processed_test.str.replace(r'[^\\w\\d\\s]', ' ')\n",
    "#replace whitespace between terms with a single space\n",
    "processed = processed.str.replace(r'\\s+', ' ')\n",
    "processed_test = processed_test.str.replace(r'\\s+', ' ')\n",
    "#replace leading and trailling whitespace\n",
    "processed = processed.str.replace(r'^\\s+|\\s+?$', '')\n",
    "processed_test = processed_test.str.replace(r'^\\s+|\\s+?$', '')\n",
    "# replace url with 'webaddr'\n",
    "processed = processed.str.replace(r'URL\\_[a-z0-9]+', 'webaddr')\n",
    "processed_test = processed_test.str.replace(r'URL\\_[a-z0-9]+', 'webaddr')\n",
    "# to lower case \n",
    "processed = processed.str.lower()\n",
    "processed_test = processed_test.str.lower()\n",
    "processed.fillna(\"None\", inplace=True)\n",
    "processed_test.fillna(\"None\", inplace=True)\n",
    "# remove stop words from text message\n",
    "stop_words = set(stopwords.words('english'))\n",
    "\n",
    "processed = processed.apply(lambda x: \" \".join(term for term in x.split() if term not in stop_words))\n",
    "processed_test = processed_test.apply(lambda x: \" \".join(term for term in x.split() if term not in stop_words))\n",
    "ps = nltk.PorterStemmer()\n",
    "processed = processed.apply(lambda x: \" \".join(ps.stem(term) for  term in x.split()))\n",
    "processed_test = processed_test.apply(lambda x: \" \".join(ps.stem(term) for  term in x.split()))"
   ]
  },
  {
   "cell_type": "code",
   "execution_count": 91,
   "metadata": {},
   "outputs": [],
   "source": [
    "train['Описание_вакансии'] = processed\n",
    "test['Описание_вакансии'] = processed_test"
   ]
  },
  {
   "cell_type": "code",
   "execution_count": 92,
   "metadata": {},
   "outputs": [],
   "source": [
    "processed = train['Требования']\n",
    "processed_test = test['Требования']\n",
    "\n",
    "#Email address\n",
    "processed = processed.str.replace(r'^.+@[^\\.].*\\.[a-z]{2,}$', 'emailaddr')\n",
    "processed_test = processed_test.str.replace(r'^.+@[^\\.].*\\.[a-z]{2,}$', 'emailaddr')\n",
    "# replace money symbols to  'moneysymb'\n",
    "processed = processed.str.replace(r'£|\\$', 'moneysymb')\n",
    "processed_test = processed_test.str.replace(r'£|\\$', 'moneysymb')\n",
    "#replace 10 digit phone numbers\n",
    "processed = processed.str.replace(r'^\\(?[\\d]{3}\\)?[\\s-]?[\\d]{3}[\\s-]?[\\d]{4}$', 'phonenumb')\n",
    "processed_test = processed_test.str.replace(r'^\\(?[\\d]{3}\\)?[\\s-]?[\\d]{3}[\\s-]?[\\d]{4}$', 'phonenumb')\n",
    "#replace numbers to  'numbr'\n",
    "processed = processed.str.replace(r'\\d+(\\.\\d+)?', 'numbr')\n",
    "processed_test = processed_test.str.replace(r'\\d+(\\.\\d+)?', 'numbr')\n",
    "#remove punctuation \n",
    "processed = processed.str.replace(r'[^\\w\\d\\s]', ' ')\n",
    "processed_test = processed_test.str.replace(r'[^\\w\\d\\s]', ' ')\n",
    "#replace whitespace between terms with a single space\n",
    "processed = processed.str.replace(r'\\s+', ' ')\n",
    "processed_test = processed_test.str.replace(r'\\s+', ' ')\n",
    "#replace leading and trailling whitespace\n",
    "processed = processed.str.replace(r'^\\s+|\\s+?$', '')\n",
    "processed_test = processed_test.str.replace(r'^\\s+|\\s+?$', '')\n",
    "# replace url with 'webaddr'\n",
    "processed = processed.str.replace(r'URL\\_[a-z0-9]+', 'webaddr')\n",
    "processed_test = processed_test.str.replace(r'URL\\_[a-z0-9]+', 'webaddr')\n",
    "# to lower case \n",
    "processed = processed.str.lower()\n",
    "processed_test = processed_test.str.lower()\n",
    "processed.fillna(\"None\", inplace=True)\n",
    "processed_test.fillna(\"None\", inplace=True)\n",
    "# remove stop words from text message\n",
    "stop_words = set(stopwords.words('english'))\n",
    "\n",
    "processed = processed.apply(lambda x: \" \".join(term for term in x.split() if term not in stop_words))\n",
    "processed_test = processed_test.apply(lambda x: \" \".join(term for term in x.split() if term not in stop_words))\n",
    "ps = nltk.PorterStemmer()\n",
    "processed = processed.apply(lambda x: \" \".join(ps.stem(term) for  term in x.split()))\n",
    "processed_test = processed_test.apply(lambda x: \" \".join(ps.stem(term) for  term in x.split()))\n",
    "\n",
    "train['Требования'] = processed\n",
    "test['Требования'] = processed_test"
   ]
  },
  {
   "cell_type": "code",
   "execution_count": 93,
   "metadata": {},
   "outputs": [],
   "source": [
    "processed = train['Соцпакет']\n",
    "processed_test = test['Соцпакет']\n",
    "\n",
    "#Email address\n",
    "processed = processed.str.replace(r'^.+@[^\\.].*\\.[a-z]{2,}$', 'emailaddr')\n",
    "processed_test = processed_test.str.replace(r'^.+@[^\\.].*\\.[a-z]{2,}$', 'emailaddr')\n",
    "# replace money symbols to  'moneysymb'\n",
    "processed = processed.str.replace(r'£|\\$', 'moneysymb')\n",
    "processed_test = processed_test.str.replace(r'£|\\$', 'moneysymb')\n",
    "#replace 10 digit phone numbers\n",
    "processed = processed.str.replace(r'^\\(?[\\d]{3}\\)?[\\s-]?[\\d]{3}[\\s-]?[\\d]{4}$', 'phonenumb')\n",
    "processed_test = processed_test.str.replace(r'^\\(?[\\d]{3}\\)?[\\s-]?[\\d]{3}[\\s-]?[\\d]{4}$', 'phonenumb')\n",
    "#replace numbers to  'numbr'\n",
    "processed = processed.str.replace(r'\\d+(\\.\\d+)?', 'numbr')\n",
    "processed_test = processed_test.str.replace(r'\\d+(\\.\\d+)?', 'numbr')\n",
    "#remove punctuation \n",
    "processed = processed.str.replace(r'[^\\w\\d\\s]', ' ')\n",
    "processed_test = processed_test.str.replace(r'[^\\w\\d\\s]', ' ')\n",
    "#replace whitespace between terms with a single space\n",
    "processed = processed.str.replace(r'\\s+', ' ')\n",
    "processed_test = processed_test.str.replace(r'\\s+', ' ')\n",
    "#replace leading and trailling whitespace\n",
    "processed = processed.str.replace(r'^\\s+|\\s+?$', '')\n",
    "processed_test = processed_test.str.replace(r'^\\s+|\\s+?$', '')\n",
    "# replace url with 'webaddr'\n",
    "processed = processed.str.replace(r'URL\\_[a-z0-9]+', 'webaddr')\n",
    "processed_test = processed_test.str.replace(r'URL\\_[a-z0-9]+', 'webaddr')\n",
    "# to lower case \n",
    "processed = processed.str.lower()\n",
    "processed_test = processed_test.str.lower()\n",
    "processed.fillna(\"None\", inplace=True)\n",
    "processed_test.fillna(\"None\", inplace=True)\n",
    "# remove stop words from text message\n",
    "stop_words = set(stopwords.words('english'))\n",
    "\n",
    "processed = processed.apply(lambda x: \" \".join(term for term in x.split() if term not in stop_words))\n",
    "processed_test = processed_test.apply(lambda x: \" \".join(term for term in x.split() if term not in stop_words))\n",
    "ps = nltk.PorterStemmer()\n",
    "processed = processed.apply(lambda x: \" \".join(ps.stem(term) for  term in x.split()))\n",
    "processed_test = processed_test.apply(lambda x: \" \".join(ps.stem(term) for  term in x.split()))\n",
    "\n",
    "train['Соцпакет'] = processed\n",
    "test['Соцпакет'] = processed_test"
   ]
  },
  {
   "cell_type": "code",
   "execution_count": 94,
   "metadata": {},
   "outputs": [
    {
     "data": {
      "text/html": [
       "<div>\n",
       "<style scoped>\n",
       "    .dataframe tbody tr th:only-of-type {\n",
       "        vertical-align: middle;\n",
       "    }\n",
       "\n",
       "    .dataframe tbody tr th {\n",
       "        vertical-align: top;\n",
       "    }\n",
       "\n",
       "    .dataframe thead th {\n",
       "        text-align: right;\n",
       "    }\n",
       "</style>\n",
       "<table border=\"1\" class=\"dataframe\">\n",
       "  <thead>\n",
       "    <tr style=\"text-align: right;\">\n",
       "      <th></th>\n",
       "      <th>Id</th>\n",
       "      <th>Название</th>\n",
       "      <th>Отдел</th>\n",
       "      <th>Зарплата</th>\n",
       "      <th>Описание_компании</th>\n",
       "      <th>Описание_вакансии</th>\n",
       "      <th>Требования</th>\n",
       "      <th>Соцпакет</th>\n",
       "      <th>Дистанционно</th>\n",
       "      <th>Вопросы</th>\n",
       "      <th>Тип_занятости</th>\n",
       "      <th>Опыт</th>\n",
       "      <th>Образование</th>\n",
       "      <th>Индустрия</th>\n",
       "      <th>Позиция</th>\n",
       "      <th>Фейк</th>\n",
       "      <th>Страна</th>\n",
       "      <th>Штат</th>\n",
       "      <th>Город</th>\n",
       "    </tr>\n",
       "  </thead>\n",
       "  <tbody>\n",
       "    <tr>\n",
       "      <th>0</th>\n",
       "      <td>10497</td>\n",
       "      <td>Reporter, Agri Investor</td>\n",
       "      <td>KHR</td>\n",
       "      <td>999.0</td>\n",
       "      <td>pei media webaddr provid rang highli respect p...</td>\n",
       "      <td>seek savvi busi report news hungri journalist ...</td>\n",
       "      <td>success candid bachelor degre equival least th...</td>\n",
       "      <td>pei media webaddr provid rang highli respect p...</td>\n",
       "      <td>0</td>\n",
       "      <td>0</td>\n",
       "      <td>Full-time</td>\n",
       "      <td>Associate</td>\n",
       "      <td>Bachelor's Degree</td>\n",
       "      <td>Publishing</td>\n",
       "      <td>Writing/Editing</td>\n",
       "      <td>0</td>\n",
       "      <td>US</td>\n",
       "      <td>None</td>\n",
       "      <td>None</td>\n",
       "    </tr>\n",
       "  </tbody>\n",
       "</table>\n",
       "</div>"
      ],
      "text/plain": [
       "      Id                 Название Отдел  Зарплата  \\\n",
       "0  10497  Reporter, Agri Investor   KHR     999.0   \n",
       "\n",
       "                                   Описание_компании  \\\n",
       "0  pei media webaddr provid rang highli respect p...   \n",
       "\n",
       "                                   Описание_вакансии  \\\n",
       "0  seek savvi busi report news hungri journalist ...   \n",
       "\n",
       "                                          Требования  \\\n",
       "0  success candid bachelor degre equival least th...   \n",
       "\n",
       "                                            Соцпакет  Дистанционно  Вопросы  \\\n",
       "0  pei media webaddr provid rang highli respect p...             0        0   \n",
       "\n",
       "  Тип_занятости       Опыт        Образование   Индустрия          Позиция  \\\n",
       "0     Full-time  Associate  Bachelor's Degree  Publishing  Writing/Editing   \n",
       "\n",
       "   Фейк Страна  Штат Город  \n",
       "0     0     US  None  None  "
      ]
     },
     "execution_count": 94,
     "metadata": {},
     "output_type": "execute_result"
    }
   ],
   "source": [
    "train.head(1)"
   ]
  },
  {
   "cell_type": "code",
   "execution_count": 95,
   "metadata": {},
   "outputs": [
    {
     "data": {
      "text/html": [
       "<div>\n",
       "<style scoped>\n",
       "    .dataframe tbody tr th:only-of-type {\n",
       "        vertical-align: middle;\n",
       "    }\n",
       "\n",
       "    .dataframe tbody tr th {\n",
       "        vertical-align: top;\n",
       "    }\n",
       "\n",
       "    .dataframe thead th {\n",
       "        text-align: right;\n",
       "    }\n",
       "</style>\n",
       "<table border=\"1\" class=\"dataframe\">\n",
       "  <thead>\n",
       "    <tr style=\"text-align: right;\">\n",
       "      <th></th>\n",
       "      <th>Id</th>\n",
       "      <th>Название</th>\n",
       "      <th>Отдел</th>\n",
       "      <th>Зарплата</th>\n",
       "      <th>Описание_компании</th>\n",
       "      <th>Описание_вакансии</th>\n",
       "      <th>Требования</th>\n",
       "      <th>Соцпакет</th>\n",
       "      <th>Дистанционно</th>\n",
       "      <th>Вопросы</th>\n",
       "      <th>Тип_занятости</th>\n",
       "      <th>Опыт</th>\n",
       "      <th>Образование</th>\n",
       "      <th>Индустрия</th>\n",
       "      <th>Позиция</th>\n",
       "      <th>Страна</th>\n",
       "      <th>Штат</th>\n",
       "      <th>Город</th>\n",
       "    </tr>\n",
       "  </thead>\n",
       "  <tbody>\n",
       "    <tr>\n",
       "      <th>0</th>\n",
       "      <td>10728</td>\n",
       "      <td>Internet Marketing Specialist</td>\n",
       "      <td>Marketing</td>\n",
       "      <td>999.0</td>\n",
       "      <td>none</td>\n",
       "      <td>role repres import posit within compani ideal ...</td>\n",
       "      <td>numbr numbr year experi similar internet marke...</td>\n",
       "      <td>remunerationa highli attract salari provid suc...</td>\n",
       "      <td>0</td>\n",
       "      <td>0</td>\n",
       "      <td>Other</td>\n",
       "      <td>No Experience</td>\n",
       "      <td>Bachelor's Degree</td>\n",
       "      <td>Information Technology and Services</td>\n",
       "      <td>NaN</td>\n",
       "      <td>IE</td>\n",
       "      <td>L</td>\n",
       "      <td>Dublin</td>\n",
       "    </tr>\n",
       "  </tbody>\n",
       "</table>\n",
       "</div>"
      ],
      "text/plain": [
       "      Id                       Название      Отдел  Зарплата  \\\n",
       "0  10728  Internet Marketing Specialist  Marketing     999.0   \n",
       "\n",
       "  Описание_компании                                  Описание_вакансии  \\\n",
       "0              none  role repres import posit within compani ideal ...   \n",
       "\n",
       "                                          Требования  \\\n",
       "0  numbr numbr year experi similar internet marke...   \n",
       "\n",
       "                                            Соцпакет  Дистанционно  Вопросы  \\\n",
       "0  remunerationa highli attract salari provid suc...             0        0   \n",
       "\n",
       "  Тип_занятости           Опыт        Образование  \\\n",
       "0         Other  No Experience  Bachelor's Degree   \n",
       "\n",
       "                             Индустрия Позиция Страна Штат   Город  \n",
       "0  Information Technology and Services     NaN     IE    L  Dublin  "
      ]
     },
     "execution_count": 95,
     "metadata": {},
     "output_type": "execute_result"
    }
   ],
   "source": [
    "test.head(1)"
   ]
  },
  {
   "cell_type": "code",
   "execution_count": 96,
   "metadata": {},
   "outputs": [
    {
     "name": "stdout",
     "output_type": "stream",
     "text": [
      "Replicas:  1\n"
     ]
    }
   ],
   "source": [
    "try:\n",
    "    tpu = tf.distribute.cluster_resolver.TPUClusterResolver()\n",
    "    print(\"Running on TPU \", tpu.master())\n",
    "except ValueError:\n",
    "    tpu = None;\n",
    "\n",
    "if tpu:\n",
    "    tf.config.experimental_connect_to_cluster(tpu)\n",
    "    tf.tpu.experimental.initialize_tpu_system(tpu)\n",
    "    strategy = tf.distribute.experimental.TPUStrategy(tpu)\n",
    "else:\n",
    "    strategy = tf.distribute.get_strategy()\n",
    "    \n",
    "print(\"Replicas: \", strategy.num_replicas_in_sync)"
   ]
  },
  {
   "cell_type": "markdown",
   "metadata": {},
   "source": [
    "### Modeling"
   ]
  },
  {
   "cell_type": "code",
   "execution_count": 102,
   "metadata": {},
   "outputs": [],
   "source": [
    "EPOCHS = 1\n",
    "BATCH_SIZE = 16 * strategy.num_replicas_in_sync\n",
    "MAX_LEN = 100"
   ]
  },
  {
   "cell_type": "code",
   "execution_count": 103,
   "metadata": {},
   "outputs": [],
   "source": [
    "def fast_encode(texts, tokenizer, chunk_size=256, maxlen=512):\n",
    "    \"\"\"\n",
    "    Encoder for encoding the text into sequence of integers for BERT Input\n",
    "    \"\"\"\n",
    "    tokenizer.enable_truncation(max_length=maxlen)\n",
    "    tokenizer.enable_padding()\n",
    "    all_ids = []\n",
    "    \n",
    "    for i in tqdm(range(0, len(texts), chunk_size)):\n",
    "        text_chunk = texts[i:i+chunk_size].tolist()\n",
    "        encs = tokenizer.encode_batch(text_chunk)\n",
    "        all_ids.extend([enc.ids for enc in encs])\n",
    "    \n",
    "    return np.array(all_ids)"
   ]
  },
  {
   "cell_type": "code",
   "execution_count": 104,
   "metadata": {},
   "outputs": [],
   "source": [
    "AUTO = tf.data.experimental.AUTOTUNE"
   ]
  },
  {
   "cell_type": "code",
   "execution_count": 105,
   "metadata": {},
   "outputs": [
    {
     "data": {
      "application/vnd.jupyter.widget-view+json": {
       "model_id": "0744400fe44849c0b5900e396771711a",
       "version_major": 2,
       "version_minor": 0
      },
      "text/plain": [
       "HBox(children=(HTML(value='Downloading'), FloatProgress(value=0.0, max=231508.0), HTML(value='')))"
      ]
     },
     "metadata": {},
     "output_type": "display_data"
    },
    {
     "name": "stdout",
     "output_type": "stream",
     "text": [
      "\n"
     ]
    },
    {
     "data": {
      "application/vnd.jupyter.widget-view+json": {
       "model_id": "bf63c798cf644f59928307737c4afc90",
       "version_major": 2,
       "version_minor": 0
      },
      "text/plain": [
       "HBox(children=(HTML(value='Downloading'), FloatProgress(value=0.0, max=28.0), HTML(value='')))"
      ]
     },
     "metadata": {},
     "output_type": "display_data"
    },
    {
     "name": "stdout",
     "output_type": "stream",
     "text": [
      "\n"
     ]
    },
    {
     "data": {
      "application/vnd.jupyter.widget-view+json": {
       "model_id": "522a5a3ca2a54807b91cf8638360e57c",
       "version_major": 2,
       "version_minor": 0
      },
      "text/plain": [
       "HBox(children=(HTML(value='Downloading'), FloatProgress(value=0.0, max=466062.0), HTML(value='')))"
      ]
     },
     "metadata": {},
     "output_type": "display_data"
    },
    {
     "name": "stdout",
     "output_type": "stream",
     "text": [
      "\n"
     ]
    },
    {
     "data": {
      "text/plain": [
       "Tokenizer(vocabulary_size=30522, model=BertWordPiece, unk_token=[UNK], sep_token=[SEP], cls_token=[CLS], pad_token=[PAD], mask_token=[MASK], clean_text=True, handle_chinese_chars=True, strip_accents=None, lowercase=False, wordpieces_prefix=##)"
      ]
     },
     "execution_count": 105,
     "metadata": {},
     "output_type": "execute_result"
    }
   ],
   "source": [
    "# First load the real tokenizer\n",
    "tokenizer = transformers.DistilBertTokenizer.from_pretrained('distilbert-base-uncased')\n",
    "# Save the loaded tokenizer locally\n",
    "tokenizer.save_pretrained('.')\n",
    "# Reload it with the huggingface tokenizers library\n",
    "fast_tokenizer = BertWordPieceTokenizer('vocab.txt', lowercase=False)\n",
    "fast_tokenizer"
   ]
  },
  {
   "cell_type": "code",
   "execution_count": 106,
   "metadata": {},
   "outputs": [],
   "source": [
    "train_ = train[['Id','Описание_компании', 'Описание_вакансии', 'Требования', 'Соцпакет', 'Фейк']]\n",
    "test_ = test[['Id','Описание_компании', 'Описание_вакансии', 'Требования', 'Соцпакет']]"
   ]
  },
  {
   "cell_type": "code",
   "execution_count": 107,
   "metadata": {},
   "outputs": [
    {
     "name": "stderr",
     "output_type": "stream",
     "text": [
      "100%|██████████| 42/42 [00:00<00:00, 43.37it/s]\n",
      "100%|██████████| 28/28 [00:00<00:00, 44.00it/s]\n"
     ]
    }
   ],
   "source": [
    "train_company = fast_encode(train_['Описание_компании'].astype(str), fast_tokenizer, maxlen=MAX_LEN)\n",
    "test_company = fast_encode(test_['Описание_компании'].astype(str), fast_tokenizer, maxlen=MAX_LEN)"
   ]
  },
  {
   "cell_type": "code",
   "execution_count": 108,
   "metadata": {},
   "outputs": [
    {
     "name": "stderr",
     "output_type": "stream",
     "text": [
      "100%|██████████| 42/42 [00:01<00:00, 26.06it/s]\n",
      "100%|██████████| 28/28 [00:01<00:00, 25.38it/s]\n"
     ]
    }
   ],
   "source": [
    "train_vac = fast_encode(train_['Описание_вакансии'].astype(str), fast_tokenizer, maxlen=MAX_LEN)\n",
    "test_vac = fast_encode(test_['Описание_вакансии'].astype(str), fast_tokenizer, maxlen=MAX_LEN)"
   ]
  },
  {
   "cell_type": "code",
   "execution_count": 109,
   "metadata": {},
   "outputs": [
    {
     "name": "stderr",
     "output_type": "stream",
     "text": [
      "100%|██████████| 42/42 [00:00<00:00, 42.11it/s]\n",
      "100%|██████████| 28/28 [00:00<00:00, 44.63it/s]\n"
     ]
    }
   ],
   "source": [
    "train_treb = fast_encode(train_['Требования'].astype(str), fast_tokenizer, maxlen=MAX_LEN)\n",
    "test_treb = fast_encode(test_['Требования'].astype(str), fast_tokenizer, maxlen=MAX_LEN)"
   ]
  },
  {
   "cell_type": "code",
   "execution_count": 110,
   "metadata": {},
   "outputs": [
    {
     "name": "stderr",
     "output_type": "stream",
     "text": [
      "100%|██████████| 42/42 [00:00<00:00, 77.84it/s]\n",
      "100%|██████████| 28/28 [00:00<00:00, 79.99it/s]\n"
     ]
    }
   ],
   "source": [
    "train_soc = fast_encode(train_['Соцпакет'].astype(str), fast_tokenizer, maxlen=MAX_LEN)\n",
    "test_soc = fast_encode(test_['Соцпакет'].astype(str), fast_tokenizer, maxlen=MAX_LEN)"
   ]
  },
  {
   "cell_type": "code",
   "execution_count": 111,
   "metadata": {},
   "outputs": [],
   "source": [
    "y_train = np.array(train_.Фейк.values)"
   ]
  },
  {
   "cell_type": "code",
   "execution_count": 112,
   "metadata": {},
   "outputs": [],
   "source": [
    "text_features = np.hstack([train_company, train_vac, train_treb, train_soc])\n",
    "text_features_test = np.hstack([test_company, test_vac, test_treb, test_soc])\n",
    "labels = np.array(train_.Фейк.values)"
   ]
  },
  {
   "cell_type": "code",
   "execution_count": 114,
   "metadata": {},
   "outputs": [],
   "source": [
    "train_dataset = (\n",
    "    tf.data.Dataset\n",
    "    .from_tensor_slices((text_features, y_train))\n",
    "    .repeat()\n",
    "    .shuffle(2048)\n",
    "    .batch(BATCH_SIZE)\n",
    "    .prefetch(AUTO)\n",
    ")\n",
    "test_dataset = (\n",
    "    tf.data.Dataset\n",
    "    .from_tensor_slices(text_features_test)\n",
    "    .batch(BATCH_SIZE)\n",
    ")"
   ]
  },
  {
   "cell_type": "code",
   "execution_count": 115,
   "metadata": {},
   "outputs": [],
   "source": [
    "def build_model(transformer, max_len=512):\n",
    "    \"\"\"\n",
    "    function for training the BERT model\n",
    "    \"\"\"\n",
    "    input_word_ids = Input(shape=(400,), dtype=tf.int32, name=\"input_word_ids\")\n",
    "    sequence_output = transformer(input_word_ids)[0]\n",
    "    cls_token = sequence_output[:, 0, :]\n",
    "    out = Dense(1, activation='sigmoid')(cls_token)\n",
    "    \n",
    "    model = Model(inputs=input_word_ids, outputs=out)\n",
    "    model.compile(Adam(lr=1e-5), loss='binary_crossentropy', metrics=['accuracy'])\n",
    "    \n",
    "    return model"
   ]
  },
  {
   "cell_type": "code",
   "execution_count": 116,
   "metadata": {
    "collapsed": true,
    "jupyter": {
     "outputs_hidden": true
    }
   },
   "outputs": [
    {
     "data": {
      "application/vnd.jupyter.widget-view+json": {
       "model_id": "59ccc97f3bb94da8adc9e94020e30bed",
       "version_major": 2,
       "version_minor": 0
      },
      "text/plain": [
       "HBox(children=(HTML(value='Downloading'), FloatProgress(value=0.0, max=442.0), HTML(value='')))"
      ]
     },
     "metadata": {},
     "output_type": "display_data"
    },
    {
     "name": "stdout",
     "output_type": "stream",
     "text": [
      "\n"
     ]
    },
    {
     "data": {
      "application/vnd.jupyter.widget-view+json": {
       "model_id": "6a0002d2e71d4970a70083592a12322a",
       "version_major": 2,
       "version_minor": 0
      },
      "text/plain": [
       "HBox(children=(HTML(value='Downloading'), FloatProgress(value=0.0, max=363423424.0), HTML(value='')))"
      ]
     },
     "metadata": {},
     "output_type": "display_data"
    },
    {
     "name": "stdout",
     "output_type": "stream",
     "text": [
      "\n"
     ]
    },
    {
     "name": "stderr",
     "output_type": "stream",
     "text": [
      "Some layers from the model checkpoint at distilbert-base-uncased were not used when initializing TFDistilBertModel: ['vocab_layer_norm', 'vocab_transform', 'vocab_projector', 'activation_13']\n",
      "- This IS expected if you are initializing TFDistilBertModel from the checkpoint of a model trained on another task or with another architecture (e.g. initializing a BertForSequenceClassification model from a BertForPreTraining model).\n",
      "- This IS NOT expected if you are initializing TFDistilBertModel from the checkpoint of a model that you expect to be exactly identical (initializing a BertForSequenceClassification model from a BertForSequenceClassification model).\n",
      "All the layers of TFDistilBertModel were initialized from the model checkpoint at distilbert-base-uncased.\n",
      "If your task is similar to the task the model of the checkpoint was trained on, you can already use TFDistilBertModel for predictions without further training.\n"
     ]
    },
    {
     "name": "stdout",
     "output_type": "stream",
     "text": [
      "WARNING:tensorflow:The parameters `output_attentions`, `output_hidden_states` and `use_cache` cannot be updated when calling a model.They have to be set to True/False in the config object (i.e.: `config=XConfig.from_pretrained('name', output_attentions=True)`).\n",
      "WARNING:tensorflow:AutoGraph could not transform <bound method Socket.send of <zmq.sugar.socket.Socket object at 0x0000028CB9CFF100>> and will run it as-is.\n",
      "Please report this to the TensorFlow team. When filing the bug, set the verbosity to 10 (on Linux, `export AUTOGRAPH_VERBOSITY=10`) and attach the full output.\n",
      "Cause: module, class, method, function, traceback, frame, or code object was expected, got cython_function_or_method\n",
      "To silence this warning, decorate the function with @tf.autograph.experimental.do_not_convert\n",
      "WARNING: AutoGraph could not transform <bound method Socket.send of <zmq.sugar.socket.Socket object at 0x0000028CB9CFF100>> and will run it as-is.\n",
      "Please report this to the TensorFlow team. When filing the bug, set the verbosity to 10 (on Linux, `export AUTOGRAPH_VERBOSITY=10`) and attach the full output.\n",
      "Cause: module, class, method, function, traceback, frame, or code object was expected, got cython_function_or_method\n",
      "To silence this warning, decorate the function with @tf.autograph.experimental.do_not_convert\n",
      "WARNING:tensorflow:The parameter `return_dict` cannot be set in graph mode and will always be set to `True`.\n",
      "Model: \"model\"\n",
      "_________________________________________________________________\n",
      "Layer (type)                 Output Shape              Param #   \n",
      "=================================================================\n",
      "input_word_ids (InputLayer)  [(None, 400)]             0         \n",
      "_________________________________________________________________\n",
      "tf_distil_bert_model (TFDist TFBaseModelOutput(last_hi 66362880  \n",
      "_________________________________________________________________\n",
      "tf.__operators__.getitem (Sl (None, 768)               0         \n",
      "_________________________________________________________________\n",
      "dense (Dense)                (None, 1)                 769       \n",
      "=================================================================\n",
      "Total params: 66,363,649\n",
      "Trainable params: 66,363,649\n",
      "Non-trainable params: 0\n",
      "_________________________________________________________________\n",
      "Wall time: 52.6 s\n"
     ]
    }
   ],
   "source": [
    "%%time\n",
    "with strategy.scope():\n",
    "    transformer_layer = (\n",
    "        transformers.TFDistilBertModel\n",
    "        .from_pretrained('distilbert-base-uncased')\n",
    "    )\n",
    "    model = build_model(transformer_layer, max_len=50)\n",
    "model.summary()"
   ]
  },
  {
   "cell_type": "code",
   "execution_count": 142,
   "metadata": {},
   "outputs": [],
   "source": [
    "#n_steps = text_features.shape[0] // BATCH_SIZE\n",
    "\n",
    "\n",
    "# train_history = model.fit(train_dataset, steps_per_epoch=n_steps, epochs=EPOCHS)"
   ]
  },
  {
   "cell_type": "code",
   "execution_count": 118,
   "metadata": {},
   "outputs": [],
   "source": [
    "train_feat, valid_feat , train_lab, valid_lab = train_test_split(text_features, labels)"
   ]
  },
  {
   "cell_type": "code",
   "execution_count": 119,
   "metadata": {
    "collapsed": true,
    "jupyter": {
     "outputs_hidden": true
    }
   },
   "outputs": [
    {
     "name": "stderr",
     "output_type": "stream",
     "text": [
      "D:\\Program Files\\Anaconda3\\lib\\site-packages\\sklearn\\linear_model\\_logistic.py:762: ConvergenceWarning: lbfgs failed to converge (status=1):\n",
      "STOP: TOTAL NO. of ITERATIONS REACHED LIMIT.\n",
      "\n",
      "Increase the number of iterations (max_iter) or scale the data as shown in:\n",
      "    https://scikit-learn.org/stable/modules/preprocessing.html\n",
      "Please also refer to the documentation for alternative solver options:\n",
      "    https://scikit-learn.org/stable/modules/linear_model.html#logistic-regression\n",
      "  n_iter_i = _check_optimize_result(\n"
     ]
    },
    {
     "data": {
      "text/plain": [
       "LogisticRegression(C=10.5)"
      ]
     },
     "execution_count": 119,
     "metadata": {},
     "output_type": "execute_result"
    }
   ],
   "source": [
    "log_clf = LogisticRegression(C=10.5)\n",
    "log_clf.fit(train_feat, train_lab)"
   ]
  },
  {
   "cell_type": "code",
   "execution_count": 120,
   "metadata": {},
   "outputs": [
    {
     "data": {
      "text/plain": [
       "0.9414615958240119"
      ]
     },
     "execution_count": 120,
     "metadata": {},
     "output_type": "execute_result"
    }
   ],
   "source": [
    "log_clf.score(valid_feat, valid_lab)"
   ]
  },
  {
   "cell_type": "code",
   "execution_count": 130,
   "metadata": {},
   "outputs": [],
   "source": [
    "valid_pred = log_clf.predict(valid_feat)"
   ]
  },
  {
   "cell_type": "code",
   "execution_count": 136,
   "metadata": {},
   "outputs": [
    {
     "name": "stdout",
     "output_type": "stream",
     "text": [
      "The f1_score was: 0.9382528297956265\n"
     ]
    }
   ],
   "source": [
    "print(\"The f1_score was: {0}\".format(f1_score(valid_lab, valid_pred, average='weighted')))"
   ]
  },
  {
   "cell_type": "code",
   "execution_count": 121,
   "metadata": {},
   "outputs": [],
   "source": [
    "log_predictions = log_clf.predict(text_features_test)"
   ]
  },
  {
   "cell_type": "code",
   "execution_count": 123,
   "metadata": {},
   "outputs": [],
   "source": [
    "output = pd.DataFrame({'Id':test['Id'],\n",
    "                      'Фейк': log_predictions})\n",
    "output.to_csv('C:/Users/nurla/Desktop/Datascience/RuCode-2020 Fake job posting/data/submission.csv', index=False)"
   ]
  },
  {
   "cell_type": "code",
   "execution_count": 124,
   "metadata": {},
   "outputs": [
    {
     "data": {
      "text/html": [
       "<div>\n",
       "<style scoped>\n",
       "    .dataframe tbody tr th:only-of-type {\n",
       "        vertical-align: middle;\n",
       "    }\n",
       "\n",
       "    .dataframe tbody tr th {\n",
       "        vertical-align: top;\n",
       "    }\n",
       "\n",
       "    .dataframe thead th {\n",
       "        text-align: right;\n",
       "    }\n",
       "</style>\n",
       "<table border=\"1\" class=\"dataframe\">\n",
       "  <thead>\n",
       "    <tr style=\"text-align: right;\">\n",
       "      <th></th>\n",
       "      <th>Id</th>\n",
       "      <th>Фейк</th>\n",
       "    </tr>\n",
       "  </thead>\n",
       "  <tbody>\n",
       "    <tr>\n",
       "      <th>0</th>\n",
       "      <td>10728</td>\n",
       "      <td>0</td>\n",
       "    </tr>\n",
       "    <tr>\n",
       "      <th>1</th>\n",
       "      <td>10729</td>\n",
       "      <td>0</td>\n",
       "    </tr>\n",
       "    <tr>\n",
       "      <th>2</th>\n",
       "      <td>10730</td>\n",
       "      <td>0</td>\n",
       "    </tr>\n",
       "    <tr>\n",
       "      <th>3</th>\n",
       "      <td>10731</td>\n",
       "      <td>0</td>\n",
       "    </tr>\n",
       "    <tr>\n",
       "      <th>4</th>\n",
       "      <td>10732</td>\n",
       "      <td>0</td>\n",
       "    </tr>\n",
       "  </tbody>\n",
       "</table>\n",
       "</div>"
      ],
      "text/plain": [
       "      Id  Фейк\n",
       "0  10728     0\n",
       "1  10729     0\n",
       "2  10730     0\n",
       "3  10731     0\n",
       "4  10732     0"
      ]
     },
     "execution_count": 124,
     "metadata": {},
     "output_type": "execute_result"
    }
   ],
   "source": [
    "output.head()"
   ]
  },
  {
   "cell_type": "code",
   "execution_count": 125,
   "metadata": {},
   "outputs": [
    {
     "data": {
      "text/plain": [
       "0    6876\n",
       "1     276\n",
       "Name: Фейк, dtype: int64"
      ]
     },
     "execution_count": 125,
     "metadata": {},
     "output_type": "execute_result"
    }
   ],
   "source": [
    "output.Фейк.value_counts()"
   ]
  },
  {
   "cell_type": "code",
   "execution_count": 23,
   "metadata": {},
   "outputs": [],
   "source": [
    "# model_class, tokenizer_class, pretrained_weights = (ppb., ppb.DistilBertTokenizer, 'distilbert-base-uncased')\n",
    "\n",
    "# tokenizer = BertTokenizer.from_pretrained(\"bert-base-cased\")\n",
    "# model = model_class.from_pretrained(pretrained_weights)"
   ]
  },
  {
   "cell_type": "code",
   "execution_count": 24,
   "metadata": {},
   "outputs": [],
   "source": [
    "# def Bert_output(df):\n",
    "#     tokenized = df.apply((lambda x: tokenizer.encode(x, add_special_tokens=True)))\n",
    "#     max_len = 30\n",
    "#     for i, j in enumerate(tokenized):\n",
    "#         if len(j) > max_len:\n",
    "#             tokenized[i] = j[:max_len]\n",
    "            \n",
    "#     padded = np.array([i + [0]*(max_len-len(i)) for i in tokenized.values])\n",
    "#     attention_mask = np.where(padded != 0, 1, 0)\n",
    "#     attention_mask.shape\n",
    "    \n",
    "#     input_ids = torch.tensor(padded).to(torch.int64)\n",
    "#     attention_mask = torch.tensor(attention_mask)\n",
    "#     with torch.no_grad():\n",
    "#         last_hidden_states=model(input_ids, attention_mask=attention_mask)\n",
    "#     return last_hidden_states[0]"
   ]
  },
  {
   "cell_type": "code",
   "execution_count": 126,
   "metadata": {},
   "outputs": [],
   "source": [
    "# train_vac = train['Описание_вакансии']\n",
    "# train_vac = train_vac[train_vac.notna()].reset_index(drop=True)\n",
    "# vac = Bert_output(train_vac)\n",
    "# print(\"Sucessfully done\")\n",
    "# np.save('output1', vac)\n",
    "# print(\"Sucessfully done\")"
   ]
  }
 ],
 "metadata": {
  "kernelspec": {
   "display_name": "Python 3",
   "language": "python",
   "name": "python3"
  },
  "language_info": {
   "codemirror_mode": {
    "name": "ipython",
    "version": 3
   },
   "file_extension": ".py",
   "mimetype": "text/x-python",
   "name": "python",
   "nbconvert_exporter": "python",
   "pygments_lexer": "ipython3",
   "version": "3.8.5"
  }
 },
 "nbformat": 4,
 "nbformat_minor": 4
}
